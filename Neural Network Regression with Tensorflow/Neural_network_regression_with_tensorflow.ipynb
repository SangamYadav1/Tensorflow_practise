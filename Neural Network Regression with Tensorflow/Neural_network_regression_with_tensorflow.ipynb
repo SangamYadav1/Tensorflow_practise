{
  "nbformat": 4,
  "nbformat_minor": 0,
  "metadata": {
    "colab": {
      "name": "Neural network regression with tensorflow.ipynb",
      "provenance": []
    },
    "kernelspec": {
      "name": "python3",
      "display_name": "Python 3"
    },
    "language_info": {
      "name": "python"
    }
  },
  "cells": [
    {
      "cell_type": "markdown",
      "source": [
        "\n",
        "\n",
        "Architecture of a regression model.\n",
        "\n",
        "Input layer \n",
        "\n",
        "Hidden layer\n",
        "\n",
        "Neuron per hidden layer\n",
        "\n",
        "output layer  shape\n",
        "\n",
        "Hidden layer activation function.\n",
        "\n",
        "Output layer activaton function.\n",
        "\n",
        "Loss function \n",
        "\n",
        "Optimizer."
      ],
      "metadata": {
        "id": "foR3iTQs-K6_"
      }
    },
    {
      "cell_type": "code",
      "source": [
        "#creating a sample regression data(so we can model it)\n",
        "\n",
        "import  numpy as np\n",
        "import matplotlib.pyplot as plt"
      ],
      "metadata": {
        "id": "E33GjqQg-xb9"
      },
      "execution_count": 2,
      "outputs": []
    },
    {
      "cell_type": "code",
      "source": [
        "#create features\n",
        "\n",
        "X = np.array([-7.0, -4.0, -1.0, 2.0, 5.0, 8.0, 11.0, 14.0])\n",
        "\n",
        "#Create labels\n",
        "\n",
        "y = np.array([3.0, 6.0, 9.0, 12.0, 15.0, 18.0, 21.0, 24.0])\n",
        "\n",
        "print(X)\n",
        "print(y)"
      ],
      "metadata": {
        "colab": {
          "base_uri": "https://localhost:8080/"
        },
        "id": "nFmcdvTQ-98t",
        "outputId": "cc11cde9-2d91-48f8-f0a3-44cd258b0838"
      },
      "execution_count": 3,
      "outputs": [
        {
          "output_type": "stream",
          "name": "stdout",
          "text": [
            "[-7. -4. -1.  2.  5.  8. 11. 14.]\n",
            "[ 3.  6.  9. 12. 15. 18. 21. 24.]\n"
          ]
        }
      ]
    },
    {
      "cell_type": "code",
      "source": [
        "#Visualize it.\n",
        "\n",
        "plt.scatter(X, y)"
      ],
      "metadata": {
        "colab": {
          "base_uri": "https://localhost:8080/",
          "height": 286
        },
        "id": "UChonutW_xLU",
        "outputId": "1c5f779d-326c-4feb-c04c-31328e41138f"
      },
      "execution_count": 4,
      "outputs": [
        {
          "output_type": "execute_result",
          "data": {
            "text/plain": [
              "<matplotlib.collections.PathCollection at 0x7f0ddd866810>"
            ]
          },
          "metadata": {},
          "execution_count": 4
        },
        {
          "output_type": "display_data",
          "data": {
            "image/png": "[encoded data removed]",
            "text/plain": [
              "<Figure size 432x288 with 1 Axes>"
            ]
          },
          "metadata": {
            "needs_background": "light"
          }
        }
      ]
    },
    {
      "cell_type": "code",
      "source": [
        "y == X + 10"
      ],
      "metadata": {
        "colab": {
          "base_uri": "https://localhost:8080/"
        },
        "id": "eXfwOGIl_2yT",
        "outputId": "d85b49d8-88f2-429f-ac9c-c0b015001a28"
      },
      "execution_count": 5,
      "outputs": [
        {
          "output_type": "execute_result",
          "data": {
            "text/plain": [
              "array([ True,  True,  True,  True,  True,  True,  True,  True])"
            ]
          },
          "metadata": {},
          "execution_count": 5
        }
      ]
    },
    {
      "cell_type": "code",
      "source": [
        "#Turn our numpy arrays into tensors i.e. converting our data into tensors.\n",
        "import tensorflow as tf\n",
        "\n",
        "X = tf.cast(tf.constant(X), dtype = tf.float32)\n",
        "y = tf.cast(tf.constant(y), dtype = tf.float32)"
      ],
      "metadata": {
        "id": "ntXh8Xyh_-Jh"
      },
      "execution_count": 7,
      "outputs": []
    },
    {
      "cell_type": "code",
      "source": [
        "print(X)\n",
        "print(y)"
      ],
      "metadata": {
        "colab": {
          "base_uri": "https://localhost:8080/"
        },
        "id": "HznUvFyGAZHC",
        "outputId": "e1ae0c57-d7c4-4c41-ebb1-ebd58ee66135"
      },
      "execution_count": 9,
      "outputs": [
        {
          "output_type": "stream",
          "name": "stdout",
          "text": [
            "tf.Tensor([-7. -4. -1.  2.  5.  8. 11. 14.], shape=(8,), dtype=float32)\n",
            "tf.Tensor([ 3.  6.  9. 12. 15. 18. 21. 24.], shape=(8,), dtype=float32)\n"
          ]
        }
      ]
    },
    {
      "cell_type": "markdown",
      "source": [
        "Steps in modelling with Tensorflow\n",
        "\n",
        "1. Creating a model - define the input layer and output layer as well as hidden layer of the deep learning model.\n",
        "\n",
        "2. Compiling a model -  define the loss function, optimizer, evaluation metrics.\n",
        "\n",
        "3. Fitting a model - Letting the model try to find the pattern between X and y(features and labels).\n",
        "\n",
        "\n",
        "**In short:** get the data ready (turn into tensors)\n",
        "\n",
        "build or pick a pre trained model to suit your problem.\n",
        "\n",
        "fit the model to the data and make a prediction.\n",
        "\n",
        "Evaluate the model.\n",
        "\n",
        "Improve through exprementation.\n",
        "\n",
        "Save and reload your trained model.\n"
      ],
      "metadata": {
        "id": "EuUfdfKjAyT0"
      }
    },
    {
      "cell_type": "code",
      "source": [
        "#create a model using Sequential API\n",
        "\n",
        "model = tf.keras.Sequential([\n",
        "                             tf.keras.layers.Dense(1)])"
      ],
      "metadata": {
        "id": "Z4TDD-C4Bf1B"
      },
      "execution_count": 15,
      "outputs": []
    },
    {
      "cell_type": "code",
      "source": [
        "#Compile the model\n",
        "\n",
        "model.compile(loss = tf.keras.losses.mae,\n",
        "              optimizer = tf.keras.optimizers.SGD(),\n",
        "              metrics = [\"mae\"])"
      ],
      "metadata": {
        "id": "F88FE69oAl1R"
      },
      "execution_count": 16,
      "outputs": []
    },
    {
      "cell_type": "code",
      "source": [
        "#fit the model\n",
        "\n",
        "model.fit(tf.expand_dims(X, axis=-1), y, epochs=5)"
      ],
      "metadata": {
        "colab": {
          "base_uri": "https://localhost:8080/"
        },
        "id": "U4seZYfTDQ4Z",
        "outputId": "5f312e23-bc25-49e8-8c46-bda6017e13b2"
      },
      "execution_count": 17,
      "outputs": [
        {
          "output_type": "stream",
          "name": "stdout",
          "text": [
            "Epoch 1/5\n",
            "1/1 [==============================] - 0s 329ms/step - loss: 7.6177 - mae: 7.6177\n",
            "Epoch 2/5\n",
            "1/1 [==============================] - 0s 8ms/step - loss: 7.4925 - mae: 7.4925\n",
            "Epoch 3/5\n",
            "1/1 [==============================] - 0s 15ms/step - loss: 7.4869 - mae: 7.4869\n",
            "Epoch 4/5\n",
            "1/1 [==============================] - 0s 8ms/step - loss: 7.4812 - mae: 7.4812\n",
            "Epoch 5/5\n",
            "1/1 [==============================] - 0s 20ms/step - loss: 7.4756 - mae: 7.4756\n"
          ]
        },
        {
          "output_type": "execute_result",
          "data": {
            "text/plain": [
              "<keras.callbacks.History at 0x7f0d60299810>"
            ]
          },
          "metadata": {},
          "execution_count": 17
        }
      ]
    },
    {
      "cell_type": "code",
      "source": [
        "#checkout X and y\n",
        "X, y"
      ],
      "metadata": {
        "colab": {
          "base_uri": "https://localhost:8080/"
        },
        "id": "72zWcZXZDYhj",
        "outputId": "f7591abc-8507-4003-bad5-c53429ef3413"
      },
      "execution_count": 19,
      "outputs": [
        {
          "output_type": "execute_result",
          "data": {
            "text/plain": [
              "(<tf.Tensor: shape=(8,), dtype=float32, numpy=array([-7., -4., -1.,  2.,  5.,  8., 11., 14.], dtype=float32)>,\n",
              " <tf.Tensor: shape=(8,), dtype=float32, numpy=array([ 3.,  6.,  9., 12., 15., 18., 21., 24.], dtype=float32)>)"
            ]
          },
          "metadata": {},
          "execution_count": 19
        }
      ]
    },
    {
      "cell_type": "code",
      "source": [
        "#Try and make a prediction using our model.\n",
        "\n",
        "y_pred = model.predict([17.0])\n",
        "y_pred"
      ],
      "metadata": {
        "colab": {
          "base_uri": "https://localhost:8080/"
        },
        "id": "X2oQxTVnFHIS",
        "outputId": "8007de4b-4340-4ac7-fd6b-3c948446fa90"
      },
      "execution_count": 20,
      "outputs": [
        {
          "output_type": "execute_result",
          "data": {
            "text/plain": [
              "array([[29.20632]], dtype=float32)"
            ]
          },
          "metadata": {},
          "execution_count": 20
        }
      ]
    },
    {
      "cell_type": "markdown",
      "source": [
        "Improving our model.\n",
        "\n",
        "We can improve our model by altering the steps we took to create our model.\n",
        "\n",
        "1. **Creating a model** - Here we can add more layers, increase the number of hidden units called neurons with in each of the hideen layers, Chanage the activation function of each layer.\n",
        "\n",
        "2. **Compiling a model** - Here we might change the optimization function or perhaps the learning rate of the optimization function.\n",
        "\n",
        "3. **Fitting a model** - Here we might a model for more epochs(leaves the models training for longer period) or on more data(give the model more examples to learn from)."
      ],
      "metadata": {
        "id": "XR61-xiJGFKO"
      }
    },
    {
      "cell_type": "code",
      "source": [
        "#Lets rebuild  our model"
      ],
      "metadata": {
        "id": "amWiSNq2HgtS"
      },
      "execution_count": null,
      "outputs": []
    },
    {
      "cell_type": "code",
      "source": [
        "#creating a model\n",
        "\n",
        "model = tf.keras. Sequential([\n",
        "                              tf.keras.layers.Dense(1)])"
      ],
      "metadata": {
        "id": "ysZKnwSkGEIw"
      },
      "execution_count": 21,
      "outputs": []
    },
    {
      "cell_type": "code",
      "source": [
        "#compile the model\n",
        "\n",
        "model.compile(loss = tf.keras.losses.mae,\n",
        "              optimizer = tf.keras.optimizers.SGD(),\n",
        "              metrics = [\"mae\"])"
      ],
      "metadata": {
        "id": "S1SvMooeFWyW"
      },
      "execution_count": 28,
      "outputs": []
    },
    {
      "cell_type": "code",
      "source": [
        "#fit the  model, this time we will trainn for longer\n",
        "\n",
        "model.fit(tf.expand_dims(X, axis = -1), y, epochs = 100)"
      ],
      "metadata": {
        "colab": {
          "base_uri": "https://localhost:8080/"
        },
        "id": "ZmBWLqYbIHFX",
        "outputId": "600089a6-5b70-4391-f2ac-91d921a68ef5"
      },
      "execution_count": 31,
      "outputs": [
        {
          "output_type": "stream",
          "name": "stdout",
          "text": [
            "Epoch 1/100\n",
            "1/1 [==============================] - 0s 313ms/step - loss: 20.4358 - mae: 20.4358\n",
            "Epoch 2/100\n",
            "1/1 [==============================] - 0s 8ms/step - loss: 20.1545 - mae: 20.1545\n",
            "Epoch 3/100\n",
            "1/1 [==============================] - 0s 8ms/step - loss: 19.8733 - mae: 19.8733\n",
            "Epoch 4/100\n",
            "1/1 [==============================] - 0s 8ms/step - loss: 19.5920 - mae: 19.5920\n",
            "Epoch 5/100\n",
            "1/1 [==============================] - 0s 10ms/step - loss: 19.3108 - mae: 19.3108\n",
            "Epoch 6/100\n",
            "1/1 [==============================] - 0s 13ms/step - loss: 19.0295 - mae: 19.0295\n",
            "Epoch 7/100\n",
            "1/1 [==============================] - 0s 8ms/step - loss: 18.7483 - mae: 18.7483\n",
            "Epoch 8/100\n",
            "1/1 [==============================] - 0s 7ms/step - loss: 18.4670 - mae: 18.4670\n",
            "Epoch 9/100\n",
            "1/1 [==============================] - 0s 7ms/step - loss: 18.1858 - mae: 18.1858\n",
            "Epoch 10/100\n",
            "1/1 [==============================] - 0s 7ms/step - loss: 17.9045 - mae: 17.9045\n",
            "Epoch 11/100\n",
            "1/1 [==============================] - 0s 9ms/step - loss: 17.6233 - mae: 17.6233\n",
            "Epoch 12/100\n",
            "1/1 [==============================] - 0s 7ms/step - loss: 17.3420 - mae: 17.3420\n",
            "Epoch 13/100\n",
            "1/1 [==============================] - 0s 7ms/step - loss: 17.0608 - mae: 17.0608\n",
            "Epoch 14/100\n",
            "1/1 [==============================] - 0s 5ms/step - loss: 16.7795 - mae: 16.7795\n",
            "Epoch 15/100\n",
            "1/1 [==============================] - 0s 9ms/step - loss: 16.4983 - mae: 16.4983\n",
            "Epoch 16/100\n",
            "1/1 [==============================] - 0s 7ms/step - loss: 16.2170 - mae: 16.2170\n",
            "Epoch 17/100\n",
            "1/1 [==============================] - 0s 5ms/step - loss: 15.9358 - mae: 15.9358\n",
            "Epoch 18/100\n",
            "1/1 [==============================] - 0s 5ms/step - loss: 15.6545 - mae: 15.6545\n",
            "Epoch 19/100\n",
            "1/1 [==============================] - 0s 9ms/step - loss: 15.3733 - mae: 15.3733\n",
            "Epoch 20/100\n",
            "1/1 [==============================] - 0s 7ms/step - loss: 15.0920 - mae: 15.0920\n",
            "Epoch 21/100\n",
            "1/1 [==============================] - 0s 11ms/step - loss: 14.8108 - mae: 14.8108\n",
            "Epoch 22/100\n",
            "1/1 [==============================] - 0s 8ms/step - loss: 14.6076 - mae: 14.6076\n",
            "Epoch 23/100\n",
            "1/1 [==============================] - 0s 9ms/step - loss: 14.4751 - mae: 14.4751\n",
            "Epoch 24/100\n",
            "1/1 [==============================] - 0s 8ms/step - loss: 14.3426 - mae: 14.3426\n",
            "Epoch 25/100\n",
            "1/1 [==============================] - 0s 13ms/step - loss: 14.2101 - mae: 14.2101\n",
            "Epoch 26/100\n",
            "1/1 [==============================] - 0s 6ms/step - loss: 14.0776 - mae: 14.0776\n",
            "Epoch 27/100\n",
            "1/1 [==============================] - 0s 7ms/step - loss: 13.9451 - mae: 13.9451\n",
            "Epoch 28/100\n",
            "1/1 [==============================] - 0s 9ms/step - loss: 13.8126 - mae: 13.8126\n",
            "Epoch 29/100\n",
            "1/1 [==============================] - 0s 8ms/step - loss: 13.6801 - mae: 13.6801\n",
            "Epoch 30/100\n",
            "1/1 [==============================] - 0s 8ms/step - loss: 13.5476 - mae: 13.5476\n",
            "Epoch 31/100\n",
            "1/1 [==============================] - 0s 10ms/step - loss: 13.4151 - mae: 13.4151\n",
            "Epoch 32/100\n",
            "1/1 [==============================] - 0s 11ms/step - loss: 13.2826 - mae: 13.2826\n",
            "Epoch 33/100\n",
            "1/1 [==============================] - 0s 9ms/step - loss: 13.1501 - mae: 13.1501\n",
            "Epoch 34/100\n",
            "1/1 [==============================] - 0s 8ms/step - loss: 13.0176 - mae: 13.0176\n",
            "Epoch 35/100\n",
            "1/1 [==============================] - 0s 9ms/step - loss: 12.8851 - mae: 12.8851\n",
            "Epoch 36/100\n",
            "1/1 [==============================] - 0s 11ms/step - loss: 12.7526 - mae: 12.7526\n",
            "Epoch 37/100\n",
            "1/1 [==============================] - 0s 10ms/step - loss: 12.6201 - mae: 12.6201\n",
            "Epoch 38/100\n",
            "1/1 [==============================] - 0s 10ms/step - loss: 12.4876 - mae: 12.4876\n",
            "Epoch 39/100\n",
            "1/1 [==============================] - 0s 9ms/step - loss: 12.3551 - mae: 12.3551\n",
            "Epoch 40/100\n",
            "1/1 [==============================] - 0s 17ms/step - loss: 12.2226 - mae: 12.2226\n",
            "Epoch 41/100\n",
            "1/1 [==============================] - 0s 11ms/step - loss: 12.0901 - mae: 12.0901\n",
            "Epoch 42/100\n",
            "1/1 [==============================] - 0s 15ms/step - loss: 11.9576 - mae: 11.9576\n",
            "Epoch 43/100\n",
            "1/1 [==============================] - 0s 6ms/step - loss: 11.8251 - mae: 11.8251\n",
            "Epoch 44/100\n",
            "1/1 [==============================] - 0s 9ms/step - loss: 11.6926 - mae: 11.6926\n",
            "Epoch 45/100\n",
            "1/1 [==============================] - 0s 17ms/step - loss: 11.5601 - mae: 11.5601\n",
            "Epoch 46/100\n",
            "1/1 [==============================] - 0s 7ms/step - loss: 11.4276 - mae: 11.4276\n",
            "Epoch 47/100\n",
            "1/1 [==============================] - 0s 20ms/step - loss: 11.2951 - mae: 11.2951\n",
            "Epoch 48/100\n",
            "1/1 [==============================] - 0s 9ms/step - loss: 11.1626 - mae: 11.1626\n",
            "Epoch 49/100\n",
            "1/1 [==============================] - 0s 10ms/step - loss: 11.0301 - mae: 11.0301\n",
            "Epoch 50/100\n",
            "1/1 [==============================] - 0s 16ms/step - loss: 10.8976 - mae: 10.8976\n",
            "Epoch 51/100\n",
            "1/1 [==============================] - 0s 16ms/step - loss: 10.7651 - mae: 10.7651\n",
            "Epoch 52/100\n",
            "1/1 [==============================] - 0s 14ms/step - loss: 10.6326 - mae: 10.6326\n",
            "Epoch 53/100\n",
            "1/1 [==============================] - 0s 18ms/step - loss: 10.5001 - mae: 10.5001\n",
            "Epoch 54/100\n",
            "1/1 [==============================] - 0s 8ms/step - loss: 10.3676 - mae: 10.3676\n",
            "Epoch 55/100\n",
            "1/1 [==============================] - 0s 9ms/step - loss: 10.2351 - mae: 10.2351\n",
            "Epoch 56/100\n",
            "1/1 [==============================] - 0s 8ms/step - loss: 10.1026 - mae: 10.1026\n",
            "Epoch 57/100\n",
            "1/1 [==============================] - 0s 8ms/step - loss: 9.9701 - mae: 9.9701\n",
            "Epoch 58/100\n",
            "1/1 [==============================] - 0s 5ms/step - loss: 9.8376 - mae: 9.8376\n",
            "Epoch 59/100\n",
            "1/1 [==============================] - 0s 9ms/step - loss: 9.7051 - mae: 9.7051\n",
            "Epoch 60/100\n",
            "1/1 [==============================] - 0s 7ms/step - loss: 9.5726 - mae: 9.5726\n",
            "Epoch 61/100\n",
            "1/1 [==============================] - 0s 7ms/step - loss: 9.4401 - mae: 9.4401\n",
            "Epoch 62/100\n",
            "1/1 [==============================] - 0s 10ms/step - loss: 9.3076 - mae: 9.3076\n",
            "Epoch 63/100\n",
            "1/1 [==============================] - 0s 8ms/step - loss: 9.1751 - mae: 9.1751\n",
            "Epoch 64/100\n",
            "1/1 [==============================] - 0s 8ms/step - loss: 9.0426 - mae: 9.0426\n",
            "Epoch 65/100\n",
            "1/1 [==============================] - 0s 9ms/step - loss: 8.9101 - mae: 8.9101\n",
            "Epoch 66/100\n",
            "1/1 [==============================] - 0s 9ms/step - loss: 8.7776 - mae: 8.7776\n",
            "Epoch 67/100\n",
            "1/1 [==============================] - 0s 9ms/step - loss: 8.6451 - mae: 8.6451\n",
            "Epoch 68/100\n",
            "1/1 [==============================] - 0s 9ms/step - loss: 8.5126 - mae: 8.5126\n",
            "Epoch 69/100\n",
            "1/1 [==============================] - 0s 7ms/step - loss: 8.3801 - mae: 8.3801\n",
            "Epoch 70/100\n",
            "1/1 [==============================] - 0s 7ms/step - loss: 8.2476 - mae: 8.2476\n",
            "Epoch 71/100\n",
            "1/1 [==============================] - 0s 8ms/step - loss: 8.1151 - mae: 8.1151\n",
            "Epoch 72/100\n",
            "1/1 [==============================] - 0s 8ms/step - loss: 7.9826 - mae: 7.9826\n",
            "Epoch 73/100\n",
            "1/1 [==============================] - 0s 8ms/step - loss: 7.8501 - mae: 7.8501\n",
            "Epoch 74/100\n",
            "1/1 [==============================] - 0s 10ms/step - loss: 7.7176 - mae: 7.7176\n",
            "Epoch 75/100\n",
            "1/1 [==============================] - 0s 8ms/step - loss: 7.5851 - mae: 7.5851\n",
            "Epoch 76/100\n",
            "1/1 [==============================] - 0s 9ms/step - loss: 7.4526 - mae: 7.4526\n",
            "Epoch 77/100\n",
            "1/1 [==============================] - 0s 5ms/step - loss: 7.3201 - mae: 7.3201\n",
            "Epoch 78/100\n",
            "1/1 [==============================] - 0s 8ms/step - loss: 7.1876 - mae: 7.1876\n",
            "Epoch 79/100\n",
            "1/1 [==============================] - 0s 8ms/step - loss: 7.0551 - mae: 7.0551\n",
            "Epoch 80/100\n",
            "1/1 [==============================] - 0s 5ms/step - loss: 6.9469 - mae: 6.9469\n",
            "Epoch 81/100\n",
            "1/1 [==============================] - 0s 10ms/step - loss: 6.9413 - mae: 6.9413\n",
            "Epoch 82/100\n",
            "1/1 [==============================] - 0s 9ms/step - loss: 6.9356 - mae: 6.9356\n",
            "Epoch 83/100\n",
            "1/1 [==============================] - 0s 6ms/step - loss: 6.9300 - mae: 6.9300\n",
            "Epoch 84/100\n",
            "1/1 [==============================] - 0s 7ms/step - loss: 6.9244 - mae: 6.9244\n",
            "Epoch 85/100\n",
            "1/1 [==============================] - 0s 11ms/step - loss: 6.9187 - mae: 6.9187\n",
            "Epoch 86/100\n",
            "1/1 [==============================] - 0s 5ms/step - loss: 6.9131 - mae: 6.9131\n",
            "Epoch 87/100\n",
            "1/1 [==============================] - 0s 5ms/step - loss: 6.9075 - mae: 6.9075\n",
            "Epoch 88/100\n",
            "1/1 [==============================] - 0s 7ms/step - loss: 6.9019 - mae: 6.9019\n",
            "Epoch 89/100\n",
            "1/1 [==============================] - 0s 7ms/step - loss: 6.8963 - mae: 6.8963\n",
            "Epoch 90/100\n",
            "1/1 [==============================] - 0s 17ms/step - loss: 6.8906 - mae: 6.8906\n",
            "Epoch 91/100\n",
            "1/1 [==============================] - 0s 7ms/step - loss: 6.8850 - mae: 6.8850\n",
            "Epoch 92/100\n",
            "1/1 [==============================] - 0s 9ms/step - loss: 6.8794 - mae: 6.8794\n",
            "Epoch 93/100\n",
            "1/1 [==============================] - 0s 7ms/step - loss: 6.8738 - mae: 6.8738\n",
            "Epoch 94/100\n",
            "1/1 [==============================] - 0s 8ms/step - loss: 6.8681 - mae: 6.8681\n",
            "Epoch 95/100\n",
            "1/1 [==============================] - 0s 8ms/step - loss: 6.8625 - mae: 6.8625\n",
            "Epoch 96/100\n",
            "1/1 [==============================] - 0s 7ms/step - loss: 6.8569 - mae: 6.8569\n",
            "Epoch 97/100\n",
            "1/1 [==============================] - 0s 10ms/step - loss: 6.8513 - mae: 6.8513\n",
            "Epoch 98/100\n",
            "1/1 [==============================] - 0s 10ms/step - loss: 6.8456 - mae: 6.8456\n",
            "Epoch 99/100\n",
            "1/1 [==============================] - 0s 10ms/step - loss: 6.8400 - mae: 6.8400\n",
            "Epoch 100/100\n",
            "1/1 [==============================] - 0s 13ms/step - loss: 6.8344 - mae: 6.8344\n"
          ]
        },
        {
          "output_type": "execute_result",
          "data": {
            "text/plain": [
              "<keras.callbacks.History at 0x7f0d62caf150>"
            ]
          },
          "metadata": {},
          "execution_count": 31
        }
      ]
    },
    {
      "cell_type": "code",
      "source": [
        "#remind ourself of the data\n",
        "\n",
        "X ,y"
      ],
      "metadata": {
        "colab": {
          "base_uri": "https://localhost:8080/"
        },
        "id": "TpaiCkdnItH4",
        "outputId": "b72cf27a-acb2-49da-cf08-9aaa8b5dfb00"
      },
      "execution_count": 32,
      "outputs": [
        {
          "output_type": "execute_result",
          "data": {
            "text/plain": [
              "(<tf.Tensor: shape=(8,), dtype=float32, numpy=array([-7., -4., -1.,  2.,  5.,  8., 11., 14.], dtype=float32)>,\n",
              " <tf.Tensor: shape=(8,), dtype=float32, numpy=array([ 3.,  6.,  9., 12., 15., 18., 21., 24.], dtype=float32)>)"
            ]
          },
          "metadata": {},
          "execution_count": 32
        }
      ]
    },
    {
      "cell_type": "code",
      "source": [
        "#Lets see if our models predicition has improved..\n",
        "\n",
        "y_pred = model.predict([17.0])\n",
        "y_pred"
      ],
      "metadata": {
        "colab": {
          "base_uri": "https://localhost:8080/"
        },
        "id": "_-RxzfaLI4bl",
        "outputId": "02e5a707-1032-4ded-bee2-ac6128c8e275"
      },
      "execution_count": 34,
      "outputs": [
        {
          "output_type": "execute_result",
          "data": {
            "text/plain": [
              "array([[29.260197]], dtype=float32)"
            ]
          },
          "metadata": {},
          "execution_count": 34
        }
      ]
    },
    {
      "cell_type": "code",
      "source": [
        "#Lets see if we can make another change to improve our model.\n",
        "\n",
        "#create the model(this time with an extra hidden layer with 100 hidden units)\n",
        "\n",
        "model = tf.keras.Sequential([tf.keras.layers.Dense(100, activation = \"relu\"),\n",
        "                            tf.keras.layers.Dense(1)])"
      ],
      "metadata": {
        "id": "SJhhlMeIJBFh"
      },
      "execution_count": 45,
      "outputs": []
    },
    {
      "cell_type": "code",
      "source": [
        "#compile the model.\n",
        "\n",
        "model.compile(loss = \"mae\",\n",
        "              optimizer = tf.keras.optimizers.SGD(),\n",
        "              metrics = [\"mae\"])"
      ],
      "metadata": {
        "id": "86yJPcdvKCpT"
      },
      "execution_count": 46,
      "outputs": []
    },
    {
      "cell_type": "code",
      "source": [
        "#fit the model\n",
        "\n",
        "model.fit(tf.expand_dims(X, axis = -1), y, epochs = 100)"
      ],
      "metadata": {
        "colab": {
          "base_uri": "https://localhost:8080/"
        },
        "id": "9Kk6fy4qKVVg",
        "outputId": "c039cfd4-ae82-4e02-f300-a9469cb92142"
      },
      "execution_count": 47,
      "outputs": [
        {
          "output_type": "stream",
          "name": "stdout",
          "text": [
            "Epoch 1/100\n",
            "1/1 [==============================] - 0s 364ms/step - loss: 14.6575 - mae: 14.6575\n",
            "Epoch 2/100\n",
            "1/1 [==============================] - 0s 7ms/step - loss: 14.0600 - mae: 14.0600\n",
            "Epoch 3/100\n",
            "1/1 [==============================] - 0s 8ms/step - loss: 13.4691 - mae: 13.4691\n",
            "Epoch 4/100\n",
            "1/1 [==============================] - 0s 11ms/step - loss: 12.8824 - mae: 12.8824\n",
            "Epoch 5/100\n",
            "1/1 [==============================] - 0s 11ms/step - loss: 12.3039 - mae: 12.3039\n",
            "Epoch 6/100\n",
            "1/1 [==============================] - 0s 9ms/step - loss: 11.7270 - mae: 11.7270\n",
            "Epoch 7/100\n",
            "1/1 [==============================] - 0s 19ms/step - loss: 11.1305 - mae: 11.1305\n",
            "Epoch 8/100\n",
            "1/1 [==============================] - 0s 13ms/step - loss: 10.5138 - mae: 10.5138\n",
            "Epoch 9/100\n",
            "1/1 [==============================] - 0s 8ms/step - loss: 9.8741 - mae: 9.8741\n",
            "Epoch 10/100\n",
            "1/1 [==============================] - 0s 9ms/step - loss: 9.2137 - mae: 9.2137\n",
            "Epoch 11/100\n",
            "1/1 [==============================] - 0s 10ms/step - loss: 8.5132 - mae: 8.5132\n",
            "Epoch 12/100\n",
            "1/1 [==============================] - 0s 8ms/step - loss: 7.7712 - mae: 7.7712\n",
            "Epoch 13/100\n",
            "1/1 [==============================] - 0s 9ms/step - loss: 6.9820 - mae: 6.9820\n",
            "Epoch 14/100\n",
            "1/1 [==============================] - 0s 15ms/step - loss: 6.1341 - mae: 6.1341\n",
            "Epoch 15/100\n",
            "1/1 [==============================] - 0s 14ms/step - loss: 5.2197 - mae: 5.2197\n",
            "Epoch 16/100\n",
            "1/1 [==============================] - 0s 14ms/step - loss: 4.3636 - mae: 4.3636\n",
            "Epoch 17/100\n",
            "1/1 [==============================] - 0s 10ms/step - loss: 4.2252 - mae: 4.2252\n",
            "Epoch 18/100\n",
            "1/1 [==============================] - 0s 10ms/step - loss: 4.0845 - mae: 4.0845\n",
            "Epoch 19/100\n",
            "1/1 [==============================] - 0s 8ms/step - loss: 4.0453 - mae: 4.0453\n",
            "Epoch 20/100\n",
            "1/1 [==============================] - 0s 6ms/step - loss: 3.9767 - mae: 3.9767\n",
            "Epoch 21/100\n",
            "1/1 [==============================] - 0s 9ms/step - loss: 3.9715 - mae: 3.9715\n",
            "Epoch 22/100\n",
            "1/1 [==============================] - 0s 11ms/step - loss: 3.8762 - mae: 3.8762\n",
            "Epoch 23/100\n",
            "1/1 [==============================] - 0s 7ms/step - loss: 3.9468 - mae: 3.9468\n",
            "Epoch 24/100\n",
            "1/1 [==============================] - 0s 9ms/step - loss: 3.8823 - mae: 3.8823\n",
            "Epoch 25/100\n",
            "1/1 [==============================] - 0s 5ms/step - loss: 3.9326 - mae: 3.9326\n",
            "Epoch 26/100\n",
            "1/1 [==============================] - 0s 7ms/step - loss: 3.8924 - mae: 3.8924\n",
            "Epoch 27/100\n",
            "1/1 [==============================] - 0s 10ms/step - loss: 3.9072 - mae: 3.9072\n",
            "Epoch 28/100\n",
            "1/1 [==============================] - 0s 11ms/step - loss: 3.9002 - mae: 3.9002\n",
            "Epoch 29/100\n",
            "1/1 [==============================] - 0s 6ms/step - loss: 3.8817 - mae: 3.8817\n",
            "Epoch 30/100\n",
            "1/1 [==============================] - 0s 8ms/step - loss: 3.9081 - mae: 3.9081\n",
            "Epoch 31/100\n",
            "1/1 [==============================] - 0s 7ms/step - loss: 3.8560 - mae: 3.8560\n",
            "Epoch 32/100\n",
            "1/1 [==============================] - 0s 9ms/step - loss: 3.9172 - mae: 3.9172\n",
            "Epoch 33/100\n",
            "1/1 [==============================] - 0s 10ms/step - loss: 3.8545 - mae: 3.8545\n",
            "Epoch 34/100\n",
            "1/1 [==============================] - 0s 11ms/step - loss: 3.9118 - mae: 3.9118\n",
            "Epoch 35/100\n",
            "1/1 [==============================] - 0s 10ms/step - loss: 3.8623 - mae: 3.8623\n",
            "Epoch 36/100\n",
            "1/1 [==============================] - 0s 10ms/step - loss: 3.8862 - mae: 3.8862\n",
            "Epoch 37/100\n",
            "1/1 [==============================] - 0s 9ms/step - loss: 3.8703 - mae: 3.8703\n",
            "Epoch 38/100\n",
            "1/1 [==============================] - 0s 12ms/step - loss: 3.8604 - mae: 3.8604\n",
            "Epoch 39/100\n",
            "1/1 [==============================] - 0s 6ms/step - loss: 3.8784 - mae: 3.8784\n",
            "Epoch 40/100\n",
            "1/1 [==============================] - 0s 8ms/step - loss: 3.8344 - mae: 3.8344\n",
            "Epoch 41/100\n",
            "1/1 [==============================] - 0s 10ms/step - loss: 3.8911 - mae: 3.8911\n",
            "Epoch 42/100\n",
            "1/1 [==============================] - 0s 16ms/step - loss: 3.8253 - mae: 3.8253\n",
            "Epoch 43/100\n",
            "1/1 [==============================] - 0s 9ms/step - loss: 3.8898 - mae: 3.8898\n",
            "Epoch 44/100\n",
            "1/1 [==============================] - 0s 17ms/step - loss: 3.8334 - mae: 3.8334\n",
            "Epoch 45/100\n",
            "1/1 [==============================] - 0s 8ms/step - loss: 3.8639 - mae: 3.8639\n",
            "Epoch 46/100\n",
            "1/1 [==============================] - 0s 9ms/step - loss: 3.8416 - mae: 3.8416\n",
            "Epoch 47/100\n",
            "1/1 [==============================] - 0s 9ms/step - loss: 3.8378 - mae: 3.8378\n",
            "Epoch 48/100\n",
            "1/1 [==============================] - 0s 10ms/step - loss: 3.8499 - mae: 3.8499\n",
            "Epoch 49/100\n",
            "1/1 [==============================] - 0s 11ms/step - loss: 3.8131 - mae: 3.8131\n",
            "Epoch 50/100\n",
            "1/1 [==============================] - 0s 9ms/step - loss: 3.8650 - mae: 3.8650\n",
            "Epoch 51/100\n",
            "1/1 [==============================] - 0s 11ms/step - loss: 3.7973 - mae: 3.7973\n",
            "Epoch 52/100\n",
            "1/1 [==============================] - 0s 9ms/step - loss: 3.8665 - mae: 3.8665\n",
            "Epoch 53/100\n",
            "1/1 [==============================] - 0s 6ms/step - loss: 3.8056 - mae: 3.8056\n",
            "Epoch 54/100\n",
            "1/1 [==============================] - 0s 10ms/step - loss: 3.8403 - mae: 3.8403\n",
            "Epoch 55/100\n",
            "1/1 [==============================] - 0s 6ms/step - loss: 3.8139 - mae: 3.8139\n",
            "Epoch 56/100\n",
            "1/1 [==============================] - 0s 13ms/step - loss: 3.8139 - mae: 3.8139\n",
            "Epoch 57/100\n",
            "1/1 [==============================] - 0s 6ms/step - loss: 3.8224 - mae: 3.8224\n",
            "Epoch 58/100\n",
            "1/1 [==============================] - 0s 16ms/step - loss: 3.7921 - mae: 3.7921\n",
            "Epoch 59/100\n",
            "1/1 [==============================] - 0s 10ms/step - loss: 3.8378 - mae: 3.8378\n",
            "Epoch 60/100\n",
            "1/1 [==============================] - 0s 9ms/step - loss: 3.7704 - mae: 3.7704\n",
            "Epoch 61/100\n",
            "1/1 [==============================] - 0s 14ms/step - loss: 3.8419 - mae: 3.8419\n",
            "Epoch 62/100\n",
            "1/1 [==============================] - 0s 10ms/step - loss: 3.7788 - mae: 3.7788\n",
            "Epoch 63/100\n",
            "1/1 [==============================] - 0s 9ms/step - loss: 3.8154 - mae: 3.8154\n",
            "Epoch 64/100\n",
            "1/1 [==============================] - 0s 9ms/step - loss: 3.7874 - mae: 3.7874\n",
            "Epoch 65/100\n",
            "1/1 [==============================] - 0s 7ms/step - loss: 3.7888 - mae: 3.7888\n",
            "Epoch 66/100\n",
            "1/1 [==============================] - 0s 19ms/step - loss: 3.7973 - mae: 3.7973\n",
            "Epoch 67/100\n",
            "1/1 [==============================] - 0s 11ms/step - loss: 3.7680 - mae: 3.7680\n",
            "Epoch 68/100\n",
            "1/1 [==============================] - 0s 21ms/step - loss: 3.8116 - mae: 3.8116\n",
            "Epoch 69/100\n",
            "1/1 [==============================] - 0s 13ms/step - loss: 3.7445 - mae: 3.7445\n",
            "Epoch 70/100\n",
            "1/1 [==============================] - 0s 11ms/step - loss: 3.8160 - mae: 3.8160\n",
            "Epoch 71/100\n",
            "1/1 [==============================] - 0s 10ms/step - loss: 3.7531 - mae: 3.7531\n",
            "Epoch 72/100\n",
            "1/1 [==============================] - 0s 6ms/step - loss: 3.7892 - mae: 3.7892\n",
            "Epoch 73/100\n",
            "1/1 [==============================] - 0s 10ms/step - loss: 3.7619 - mae: 3.7619\n",
            "Epoch 74/100\n",
            "1/1 [==============================] - 0s 7ms/step - loss: 3.7623 - mae: 3.7623\n",
            "Epoch 75/100\n",
            "1/1 [==============================] - 0s 8ms/step - loss: 3.7752 - mae: 3.7752\n",
            "Epoch 76/100\n",
            "1/1 [==============================] - 0s 9ms/step - loss: 3.7412 - mae: 3.7412\n",
            "Epoch 77/100\n",
            "1/1 [==============================] - 0s 9ms/step - loss: 3.7864 - mae: 3.7864\n",
            "Epoch 78/100\n",
            "1/1 [==============================] - 0s 8ms/step - loss: 3.7196 - mae: 3.7196\n",
            "Epoch 79/100\n",
            "1/1 [==============================] - 0s 9ms/step - loss: 3.7888 - mae: 3.7888\n",
            "Epoch 80/100\n",
            "1/1 [==============================] - 0s 10ms/step - loss: 3.7284 - mae: 3.7284\n",
            "Epoch 81/100\n",
            "1/1 [==============================] - 0s 11ms/step - loss: 3.7617 - mae: 3.7617\n",
            "Epoch 82/100\n",
            "1/1 [==============================] - 0s 9ms/step - loss: 3.7374 - mae: 3.7374\n",
            "Epoch 83/100\n",
            "1/1 [==============================] - 0s 14ms/step - loss: 3.7359 - mae: 3.7359\n",
            "Epoch 84/100\n",
            "1/1 [==============================] - 0s 7ms/step - loss: 3.7533 - mae: 3.7533\n",
            "Epoch 85/100\n",
            "1/1 [==============================] - 0s 12ms/step - loss: 3.7131 - mae: 3.7131\n",
            "Epoch 86/100\n",
            "1/1 [==============================] - 0s 11ms/step - loss: 3.7623 - mae: 3.7623\n",
            "Epoch 87/100\n",
            "1/1 [==============================] - 0s 7ms/step - loss: 3.6957 - mae: 3.6957\n",
            "Epoch 88/100\n",
            "1/1 [==============================] - 0s 12ms/step - loss: 3.7602 - mae: 3.7602\n",
            "Epoch 89/100\n",
            "1/1 [==============================] - 0s 13ms/step - loss: 3.7048 - mae: 3.7048\n",
            "Epoch 90/100\n",
            "1/1 [==============================] - 0s 6ms/step - loss: 3.7328 - mae: 3.7328\n",
            "Epoch 91/100\n",
            "1/1 [==============================] - 0s 7ms/step - loss: 3.7139 - mae: 3.7139\n",
            "Epoch 92/100\n",
            "1/1 [==============================] - 0s 7ms/step - loss: 3.7100 - mae: 3.7100\n",
            "Epoch 93/100\n",
            "1/1 [==============================] - 0s 7ms/step - loss: 3.7300 - mae: 3.7300\n",
            "Epoch 94/100\n",
            "1/1 [==============================] - 0s 14ms/step - loss: 3.6835 - mae: 3.6835\n",
            "Epoch 95/100\n",
            "1/1 [==============================] - 0s 6ms/step - loss: 3.7392 - mae: 3.7392\n",
            "Epoch 96/100\n",
            "1/1 [==============================] - 0s 8ms/step - loss: 3.6728 - mae: 3.6728\n",
            "Epoch 97/100\n",
            "1/1 [==============================] - 0s 8ms/step - loss: 3.7304 - mae: 3.7304\n",
            "Epoch 98/100\n",
            "1/1 [==============================] - 0s 10ms/step - loss: 3.6821 - mae: 3.6821\n",
            "Epoch 99/100\n",
            "1/1 [==============================] - 0s 6ms/step - loss: 3.7026 - mae: 3.7026\n",
            "Epoch 100/100\n",
            "1/1 [==============================] - 0s 7ms/step - loss: 3.6928 - mae: 3.6928\n"
          ]
        },
        {
          "output_type": "execute_result",
          "data": {
            "text/plain": [
              "<keras.callbacks.History at 0x7f0d63663490>"
            ]
          },
          "metadata": {},
          "execution_count": 47
        }
      ]
    },
    {
      "cell_type": "code",
      "source": [
        "#lets remond ourself of the data\n",
        "\n",
        "X, y"
      ],
      "metadata": {
        "colab": {
          "base_uri": "https://localhost:8080/"
        },
        "id": "l9VoTdhVKmXL",
        "outputId": "fcd5d342-6685-4041-e2b5-a31deb808957"
      },
      "execution_count": 48,
      "outputs": [
        {
          "output_type": "execute_result",
          "data": {
            "text/plain": [
              "(<tf.Tensor: shape=(8,), dtype=float32, numpy=array([-7., -4., -1.,  2.,  5.,  8., 11., 14.], dtype=float32)>,\n",
              " <tf.Tensor: shape=(8,), dtype=float32, numpy=array([ 3.,  6.,  9., 12., 15., 18., 21., 24.], dtype=float32)>)"
            ]
          },
          "metadata": {},
          "execution_count": 48
        }
      ]
    },
    {
      "cell_type": "code",
      "source": [
        "#Lets try to make a prediction\n",
        "\n",
        "y_pred = model.predict([17.0])\n",
        "y_pred"
      ],
      "metadata": {
        "colab": {
          "base_uri": "https://localhost:8080/"
        },
        "id": "hN37QDsLK1Zp",
        "outputId": "cd537bb4-a5cf-4673-9fcd-d7d144b848d5"
      },
      "execution_count": 49,
      "outputs": [
        {
          "output_type": "execute_result",
          "data": {
            "text/plain": [
              "array([[31.607239]], dtype=float32)"
            ]
          },
          "metadata": {},
          "execution_count": 49
        }
      ]
    },
    {
      "cell_type": "code",
      "source": [
        "#Note: improving our models doesnot always give best results. Sometimes previous models perform better then the recent updated hyperparmeter model."
      ],
      "metadata": {
        "id": "MjUS1KIzK_15"
      },
      "execution_count": null,
      "outputs": []
    }
  ]
}