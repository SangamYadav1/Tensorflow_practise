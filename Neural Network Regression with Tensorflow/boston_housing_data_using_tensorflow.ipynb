{
  "nbformat": 4,
  "nbformat_minor": 0,
  "metadata": {
    "colab": {
      "name": "boston housing data using tensorflow.ipynb",
      "provenance": []
    },
    "kernelspec": {
      "name": "python3",
      "display_name": "Python 3"
    },
    "language_info": {
      "name": "python"
    }
  },
  "cells": [
    {
      "cell_type": "code",
      "execution_count": 8,
      "metadata": {
        "id": "J50nE2e_DSms"
      },
      "outputs": [],
      "source": [
        "#import tensorflow\n",
        "\n",
        "import tensorflow as tf"
      ]
    },
    {
      "cell_type": "code",
      "source": [
        "#import boston housing data set.\n",
        "\n",
        "(x_train, y_train), (x_test, y_test) = tf.keras.datasets.boston_housing.load_data(\n",
        "      path=\"boston_housing.npz\", test_split=0.2, seed=85)"
      ],
      "metadata": {
        "id": "CYDCnxnGMp6D"
      },
      "execution_count": 15,
      "outputs": []
    },
    {
      "cell_type": "code",
      "source": [
        "print(x_train.shape, y_train.shape)\n",
        "print(x_test.shape, y_test.shape)"
      ],
      "metadata": {
        "colab": {
          "base_uri": "https://localhost:8080/"
        },
        "id": "oJ_7Qx23MyX6",
        "outputId": "d59a1884-e39c-4cd0-b39c-e69ae1e71ce3"
      },
      "execution_count": 16,
      "outputs": [
        {
          "output_type": "stream",
          "name": "stdout",
          "text": [
            "(404, 13) (404,)\n",
            "(102, 13) (102,)\n"
          ]
        }
      ]
    },
    {
      "cell_type": "markdown",
      "source": [
        "Prepraing the data.\n",
        "\n",
        "We are going to do a feature normalization. Feature normalization is when you substrat the mean of the feature from each feature and divide each result by the standard deviation."
      ],
      "metadata": {
        "id": "AAd6hhvKY8VD"
      }
    },
    {
      "cell_type": "code",
      "source": [
        "mean = tf.reduce_mean(x_train)\n",
        "x_train -= mean\n",
        "std = tf.math.reduce_std(x_train)\n",
        "x_train /= std\n",
        "\n",
        "x_test -= mean\n",
        "x_test /= std"
      ],
      "metadata": {
        "id": "SwSizsM_ZSiK"
      },
      "execution_count": 18,
      "outputs": []
    },
    {
      "cell_type": "code",
      "source": [
        "#creating a model.\n",
        "\n",
        "model = tf.keras.Sequential([tf.keras.layers.Dense(100),\n",
        "                            tf.keras.layers.Dense(10),\n",
        "                            tf.keras.layers.Dense(1)])"
      ],
      "metadata": {
        "id": "PCE5lCutaTbp"
      },
      "execution_count": 21,
      "outputs": []
    },
    {
      "cell_type": "code",
      "source": [
        "#compiling the model\n",
        "\n",
        "model.compile(loss = tf.keras.losses.mae,\n",
        "              optimizer = tf.keras.optimizers.SGD(),\n",
        "              metrics = ['mae'])"
      ],
      "metadata": {
        "id": "Z8-wax0FbheJ"
      },
      "execution_count": 22,
      "outputs": []
    },
    {
      "cell_type": "code",
      "source": [
        "#fitting the model.\n",
        "\n",
        "history = model.fit(tf.expand_dims(x_train, axis = -1), y_train, epochs = 100)"
      ],
      "metadata": {
        "colab": {
          "base_uri": "https://localhost:8080/"
        },
        "id": "VCjOmVshb7-C",
        "outputId": "643f3a06-81bc-43f4-b552-0d87c7c869a9"
      },
      "execution_count": 23,
      "outputs": [
        {
          "output_type": "stream",
          "name": "stdout",
          "text": [
            "Epoch 1/100\n",
            "13/13 [==============================] - 1s 3ms/step - loss: 22.0142 - mae: 22.0142\n",
            "Epoch 2/100\n",
            "13/13 [==============================] - 0s 3ms/step - loss: 21.1062 - mae: 21.1062\n",
            "Epoch 3/100\n",
            "13/13 [==============================] - 0s 2ms/step - loss: 19.8488 - mae: 19.8488\n",
            "Epoch 4/100\n",
            "13/13 [==============================] - 0s 2ms/step - loss: 17.7335 - mae: 17.7335\n",
            "Epoch 5/100\n",
            "13/13 [==============================] - 0s 2ms/step - loss: 13.7525 - mae: 13.7525\n",
            "Epoch 6/100\n",
            "13/13 [==============================] - 0s 2ms/step - loss: 8.2344 - mae: 8.2344\n",
            "Epoch 7/100\n",
            "13/13 [==============================] - 0s 3ms/step - loss: 6.4022 - mae: 6.4022\n",
            "Epoch 8/100\n",
            "13/13 [==============================] - 0s 3ms/step - loss: 6.3597 - mae: 6.3597\n",
            "Epoch 9/100\n",
            "13/13 [==============================] - 0s 3ms/step - loss: 6.3570 - mae: 6.3570\n",
            "Epoch 10/100\n",
            "13/13 [==============================] - 0s 2ms/step - loss: 6.3527 - mae: 6.3527\n",
            "Epoch 11/100\n",
            "13/13 [==============================] - 0s 2ms/step - loss: 6.3597 - mae: 6.3597\n",
            "Epoch 12/100\n",
            "13/13 [==============================] - 0s 2ms/step - loss: 6.3632 - mae: 6.3632\n",
            "Epoch 13/100\n",
            "13/13 [==============================] - 0s 2ms/step - loss: 6.3588 - mae: 6.3588\n",
            "Epoch 14/100\n",
            "13/13 [==============================] - 0s 3ms/step - loss: 6.3625 - mae: 6.3625\n",
            "Epoch 15/100\n",
            "13/13 [==============================] - 0s 2ms/step - loss: 6.3656 - mae: 6.3656\n",
            "Epoch 16/100\n",
            "13/13 [==============================] - 0s 3ms/step - loss: 6.3497 - mae: 6.3497\n",
            "Epoch 17/100\n",
            "13/13 [==============================] - 0s 3ms/step - loss: 6.3627 - mae: 6.3627\n",
            "Epoch 18/100\n",
            "13/13 [==============================] - 0s 2ms/step - loss: 6.3748 - mae: 6.3748\n",
            "Epoch 19/100\n",
            "13/13 [==============================] - 0s 2ms/step - loss: 6.3661 - mae: 6.3661\n",
            "Epoch 20/100\n",
            "13/13 [==============================] - 0s 2ms/step - loss: 6.3590 - mae: 6.3590\n",
            "Epoch 21/100\n",
            "13/13 [==============================] - 0s 3ms/step - loss: 6.3532 - mae: 6.3532\n",
            "Epoch 22/100\n",
            "13/13 [==============================] - 0s 2ms/step - loss: 6.3618 - mae: 6.3618\n",
            "Epoch 23/100\n",
            "13/13 [==============================] - 0s 2ms/step - loss: 6.3628 - mae: 6.3628\n",
            "Epoch 24/100\n",
            "13/13 [==============================] - 0s 3ms/step - loss: 6.3619 - mae: 6.3619\n",
            "Epoch 25/100\n",
            "13/13 [==============================] - 0s 2ms/step - loss: 6.3696 - mae: 6.3696\n",
            "Epoch 26/100\n",
            "13/13 [==============================] - 0s 2ms/step - loss: 6.3606 - mae: 6.3606\n",
            "Epoch 27/100\n",
            "13/13 [==============================] - 0s 2ms/step - loss: 6.3656 - mae: 6.3656\n",
            "Epoch 28/100\n",
            "13/13 [==============================] - 0s 2ms/step - loss: 6.3565 - mae: 6.3565\n",
            "Epoch 29/100\n",
            "13/13 [==============================] - 0s 2ms/step - loss: 6.3542 - mae: 6.3542\n",
            "Epoch 30/100\n",
            "13/13 [==============================] - 0s 3ms/step - loss: 6.3549 - mae: 6.3549\n",
            "Epoch 31/100\n",
            "13/13 [==============================] - 0s 2ms/step - loss: 6.3748 - mae: 6.3748\n",
            "Epoch 32/100\n",
            "13/13 [==============================] - 0s 3ms/step - loss: 6.3524 - mae: 6.3524\n",
            "Epoch 33/100\n",
            "13/13 [==============================] - 0s 2ms/step - loss: 6.3835 - mae: 6.3835\n",
            "Epoch 34/100\n",
            "13/13 [==============================] - 0s 2ms/step - loss: 6.3632 - mae: 6.3632\n",
            "Epoch 35/100\n",
            "13/13 [==============================] - 0s 3ms/step - loss: 6.3457 - mae: 6.3457\n",
            "Epoch 36/100\n",
            "13/13 [==============================] - 0s 3ms/step - loss: 6.3539 - mae: 6.3539\n",
            "Epoch 37/100\n",
            "13/13 [==============================] - 0s 2ms/step - loss: 6.3519 - mae: 6.3519\n",
            "Epoch 38/100\n",
            "13/13 [==============================] - 0s 2ms/step - loss: 6.3530 - mae: 6.3530\n",
            "Epoch 39/100\n",
            "13/13 [==============================] - 0s 2ms/step - loss: 6.3406 - mae: 6.3406\n",
            "Epoch 40/100\n",
            "13/13 [==============================] - 0s 2ms/step - loss: 6.3711 - mae: 6.3711\n",
            "Epoch 41/100\n",
            "13/13 [==============================] - 0s 2ms/step - loss: 6.3596 - mae: 6.3596\n",
            "Epoch 42/100\n",
            "13/13 [==============================] - 0s 2ms/step - loss: 6.3620 - mae: 6.3619\n",
            "Epoch 43/100\n",
            "13/13 [==============================] - 0s 3ms/step - loss: 6.3450 - mae: 6.3450\n",
            "Epoch 44/100\n",
            "13/13 [==============================] - 0s 2ms/step - loss: 6.3659 - mae: 6.3659\n",
            "Epoch 45/100\n",
            "13/13 [==============================] - 0s 2ms/step - loss: 6.3749 - mae: 6.3749\n",
            "Epoch 46/100\n",
            "13/13 [==============================] - 0s 2ms/step - loss: 6.3541 - mae: 6.3541\n",
            "Epoch 47/100\n",
            "13/13 [==============================] - 0s 3ms/step - loss: 6.3609 - mae: 6.3609\n",
            "Epoch 48/100\n",
            "13/13 [==============================] - 0s 2ms/step - loss: 6.3571 - mae: 6.3571\n",
            "Epoch 49/100\n",
            "13/13 [==============================] - 0s 3ms/step - loss: 6.3668 - mae: 6.3668\n",
            "Epoch 50/100\n",
            "13/13 [==============================] - 0s 2ms/step - loss: 6.3605 - mae: 6.3605\n",
            "Epoch 51/100\n",
            "13/13 [==============================] - 0s 3ms/step - loss: 6.3854 - mae: 6.3854\n",
            "Epoch 52/100\n",
            "13/13 [==============================] - 0s 2ms/step - loss: 6.3638 - mae: 6.3638\n",
            "Epoch 53/100\n",
            "13/13 [==============================] - 0s 2ms/step - loss: 6.3533 - mae: 6.3533\n",
            "Epoch 54/100\n",
            "13/13 [==============================] - 0s 3ms/step - loss: 6.3548 - mae: 6.3548\n",
            "Epoch 55/100\n",
            "13/13 [==============================] - 0s 3ms/step - loss: 6.3682 - mae: 6.3682\n",
            "Epoch 56/100\n",
            "13/13 [==============================] - 0s 2ms/step - loss: 6.3463 - mae: 6.3463\n",
            "Epoch 57/100\n",
            "13/13 [==============================] - 0s 3ms/step - loss: 6.3615 - mae: 6.3615\n",
            "Epoch 58/100\n",
            "13/13 [==============================] - 0s 2ms/step - loss: 6.3819 - mae: 6.3819\n",
            "Epoch 59/100\n",
            "13/13 [==============================] - 0s 3ms/step - loss: 6.3458 - mae: 6.3458\n",
            "Epoch 60/100\n",
            "13/13 [==============================] - 0s 2ms/step - loss: 6.3560 - mae: 6.3560\n",
            "Epoch 61/100\n",
            "13/13 [==============================] - 0s 2ms/step - loss: 6.3669 - mae: 6.3669\n",
            "Epoch 62/100\n",
            "13/13 [==============================] - 0s 2ms/step - loss: 6.3643 - mae: 6.3643\n",
            "Epoch 63/100\n",
            "13/13 [==============================] - 0s 3ms/step - loss: 6.3577 - mae: 6.3577\n",
            "Epoch 64/100\n",
            "13/13 [==============================] - 0s 3ms/step - loss: 6.3544 - mae: 6.3544\n",
            "Epoch 65/100\n",
            "13/13 [==============================] - 0s 2ms/step - loss: 6.3666 - mae: 6.3666\n",
            "Epoch 66/100\n",
            "13/13 [==============================] - 0s 2ms/step - loss: 6.3512 - mae: 6.3512\n",
            "Epoch 67/100\n",
            "13/13 [==============================] - 0s 2ms/step - loss: 6.3305 - mae: 6.3305\n",
            "Epoch 68/100\n",
            "13/13 [==============================] - 0s 2ms/step - loss: 6.3614 - mae: 6.3614\n",
            "Epoch 69/100\n",
            "13/13 [==============================] - 0s 2ms/step - loss: 6.3494 - mae: 6.3494\n",
            "Epoch 70/100\n",
            "13/13 [==============================] - 0s 2ms/step - loss: 6.3762 - mae: 6.3762\n",
            "Epoch 71/100\n",
            "13/13 [==============================] - 0s 2ms/step - loss: 6.3610 - mae: 6.3610\n",
            "Epoch 72/100\n",
            "13/13 [==============================] - 0s 2ms/step - loss: 6.3463 - mae: 6.3463\n",
            "Epoch 73/100\n",
            "13/13 [==============================] - 0s 2ms/step - loss: 6.3655 - mae: 6.3655\n",
            "Epoch 74/100\n",
            "13/13 [==============================] - 0s 2ms/step - loss: 6.3659 - mae: 6.3659\n",
            "Epoch 75/100\n",
            "13/13 [==============================] - 0s 2ms/step - loss: 6.3622 - mae: 6.3622\n",
            "Epoch 76/100\n",
            "13/13 [==============================] - 0s 2ms/step - loss: 6.3730 - mae: 6.3730\n",
            "Epoch 77/100\n",
            "13/13 [==============================] - 0s 3ms/step - loss: 6.3484 - mae: 6.3484\n",
            "Epoch 78/100\n",
            "13/13 [==============================] - 0s 3ms/step - loss: 6.3498 - mae: 6.3498\n",
            "Epoch 79/100\n",
            "13/13 [==============================] - 0s 3ms/step - loss: 6.3498 - mae: 6.3498\n",
            "Epoch 80/100\n",
            "13/13 [==============================] - 0s 2ms/step - loss: 6.3703 - mae: 6.3703\n",
            "Epoch 81/100\n",
            "13/13 [==============================] - 0s 2ms/step - loss: 6.3601 - mae: 6.3601\n",
            "Epoch 82/100\n",
            "13/13 [==============================] - 0s 2ms/step - loss: 6.3522 - mae: 6.3522\n",
            "Epoch 83/100\n",
            "13/13 [==============================] - 0s 2ms/step - loss: 6.3717 - mae: 6.3717\n",
            "Epoch 84/100\n",
            "13/13 [==============================] - 0s 3ms/step - loss: 6.3539 - mae: 6.3539\n",
            "Epoch 85/100\n",
            "13/13 [==============================] - 0s 2ms/step - loss: 6.3491 - mae: 6.3491\n",
            "Epoch 86/100\n",
            "13/13 [==============================] - 0s 2ms/step - loss: 6.3778 - mae: 6.3778\n",
            "Epoch 87/100\n",
            "13/13 [==============================] - 0s 2ms/step - loss: 6.3592 - mae: 6.3592\n",
            "Epoch 88/100\n",
            "13/13 [==============================] - 0s 2ms/step - loss: 6.3622 - mae: 6.3622\n",
            "Epoch 89/100\n",
            "13/13 [==============================] - 0s 2ms/step - loss: 6.3544 - mae: 6.3544\n",
            "Epoch 90/100\n",
            "13/13 [==============================] - 0s 3ms/step - loss: 6.3662 - mae: 6.3662\n",
            "Epoch 91/100\n",
            "13/13 [==============================] - 0s 3ms/step - loss: 6.3741 - mae: 6.3741\n",
            "Epoch 92/100\n",
            "13/13 [==============================] - 0s 2ms/step - loss: 6.3535 - mae: 6.3535\n",
            "Epoch 93/100\n",
            "13/13 [==============================] - 0s 2ms/step - loss: 6.3571 - mae: 6.3571\n",
            "Epoch 94/100\n",
            "13/13 [==============================] - 0s 2ms/step - loss: 6.3677 - mae: 6.3677\n",
            "Epoch 95/100\n",
            "13/13 [==============================] - 0s 3ms/step - loss: 6.3680 - mae: 6.3680\n",
            "Epoch 96/100\n",
            "13/13 [==============================] - 0s 2ms/step - loss: 6.3586 - mae: 6.3586\n",
            "Epoch 97/100\n",
            "13/13 [==============================] - 0s 2ms/step - loss: 6.3567 - mae: 6.3567\n",
            "Epoch 98/100\n",
            "13/13 [==============================] - 0s 3ms/step - loss: 6.3745 - mae: 6.3745\n",
            "Epoch 99/100\n",
            "13/13 [==============================] - 0s 2ms/step - loss: 6.3515 - mae: 6.3515\n",
            "Epoch 100/100\n",
            "13/13 [==============================] - 0s 2ms/step - loss: 6.3528 - mae: 6.3528\n"
          ]
        }
      ]
    },
    {
      "cell_type": "code",
      "source": [
        "#plot history.(also known as loss curve or a training curve)\n",
        "import pandas as pd\n",
        "import matplotlib.pyplot as plt\n",
        "pd.DataFrame(history.history).plot()\n",
        "plt.ylabel(\"loss\")\n",
        "plt.xlabel(\"epochs\")"
      ],
      "metadata": {
        "colab": {
          "base_uri": "https://localhost:8080/",
          "height": 296
        },
        "id": "GaqOiN92cljj",
        "outputId": "04e4dd74-82e2-4d9c-e481-144af8a96052"
      },
      "execution_count": 27,
      "outputs": [
        {
          "output_type": "execute_result",
          "data": {
            "text/plain": [
              "Text(0.5, 0, 'epochs')"
            ]
          },
          "metadata": {},
          "execution_count": 27
        },
        {
          "output_type": "display_data",
          "data": {
            "image/png": "[encoded data removed]",
            "text/plain": [
              "<Figure size 432x288 with 1 Axes>"
            ]
          },
          "metadata": {
            "needs_background": "light"
          }
        }
      ]
    },
    {
      "cell_type": "code",
      "source": [
        "#evaluate the model\n",
        "\n",
        "model.evaluate(x_test,y_test)"
      ],
      "metadata": {
        "colab": {
          "base_uri": "https://localhost:8080/"
        },
        "id": "UXdoCf3EcQSg",
        "outputId": "d25be82f-c295-40d4-ac5b-74075ccbecdf"
      },
      "execution_count": 24,
      "outputs": [
        {
          "output_type": "stream",
          "name": "stdout",
          "text": [
            "4/4 [==============================] - 0s 4ms/step - loss: 7.2794 - mae: 7.2794\n"
          ]
        },
        {
          "output_type": "execute_result",
          "data": {
            "text/plain": [
              "[7.279425144195557, 7.27942419052124]"
            ]
          },
          "metadata": {},
          "execution_count": 24
        }
      ]
    },
    {
      "cell_type": "code",
      "source": [
        "#trying to imroving our model further.\n",
        "\n",
        "model_1 = tf.keras.Sequential([tf.keras.layers.Dense(100),\n",
        "                               tf.keras.layers.Dense(10),\n",
        "                               tf.keras.layers.Dense(1)])\n",
        "                              "
      ],
      "metadata": {
        "id": "s9_suW3tca83"
      },
      "execution_count": 57,
      "outputs": []
    },
    {
      "cell_type": "code",
      "source": [
        "#compile the model.\n",
        "\n",
        "model_1.compile(loss = tf.keras.losses.mae,\n",
        "                optimizer = tf.keras.optimizers.Adam(),\n",
        "                metrics = ['mae'])"
      ],
      "metadata": {
        "id": "lzoi6dJqfqyi"
      },
      "execution_count": 58,
      "outputs": []
    },
    {
      "cell_type": "code",
      "source": [
        "#fit the model\n",
        "\n",
        "history_1 = model_1.fit(tf.expand_dims(x_train, axis = -1), y_train, epochs = 100)"
      ],
      "metadata": {
        "colab": {
          "base_uri": "https://localhost:8080/"
        },
        "id": "FqzU4OAPf6sv",
        "outputId": "4b1d6135-75cf-4fab-e02b-360b38f3c425"
      },
      "execution_count": 59,
      "outputs": [
        {
          "output_type": "stream",
          "name": "stdout",
          "text": [
            "Epoch 1/100\n",
            "13/13 [==============================] - 1s 3ms/step - loss: 22.2707 - mae: 22.2707\n",
            "Epoch 2/100\n",
            "13/13 [==============================] - 0s 3ms/step - loss: 21.9414 - mae: 21.9414\n",
            "Epoch 3/100\n",
            "13/13 [==============================] - 0s 3ms/step - loss: 21.4220 - mae: 21.4220\n",
            "Epoch 4/100\n",
            "13/13 [==============================] - 0s 3ms/step - loss: 20.6287 - mae: 20.6287\n",
            "Epoch 5/100\n",
            "13/13 [==============================] - 0s 3ms/step - loss: 19.4686 - mae: 19.4686\n",
            "Epoch 6/100\n",
            "13/13 [==============================] - 0s 3ms/step - loss: 17.8452 - mae: 17.8452\n",
            "Epoch 7/100\n",
            "13/13 [==============================] - 0s 3ms/step - loss: 15.6700 - mae: 15.6700\n",
            "Epoch 8/100\n",
            "13/13 [==============================] - 0s 2ms/step - loss: 13.0312 - mae: 13.0312\n",
            "Epoch 9/100\n",
            "13/13 [==============================] - 0s 3ms/step - loss: 10.0588 - mae: 10.0588\n",
            "Epoch 10/100\n",
            "13/13 [==============================] - 0s 3ms/step - loss: 7.6405 - mae: 7.6405\n",
            "Epoch 11/100\n",
            "13/13 [==============================] - 0s 3ms/step - loss: 6.4194 - mae: 6.4194\n",
            "Epoch 12/100\n",
            "13/13 [==============================] - 0s 3ms/step - loss: 6.3583 - mae: 6.3583\n",
            "Epoch 13/100\n",
            "13/13 [==============================] - 0s 3ms/step - loss: 6.3713 - mae: 6.3713\n",
            "Epoch 14/100\n",
            "13/13 [==============================] - 0s 3ms/step - loss: 6.3453 - mae: 6.3453\n",
            "Epoch 15/100\n",
            "13/13 [==============================] - 0s 3ms/step - loss: 6.3453 - mae: 6.3453\n",
            "Epoch 16/100\n",
            "13/13 [==============================] - 0s 3ms/step - loss: 6.3448 - mae: 6.3448\n",
            "Epoch 17/100\n",
            "13/13 [==============================] - 0s 2ms/step - loss: 6.3437 - mae: 6.3437\n",
            "Epoch 18/100\n",
            "13/13 [==============================] - 0s 3ms/step - loss: 6.3441 - mae: 6.3441\n",
            "Epoch 19/100\n",
            "13/13 [==============================] - 0s 3ms/step - loss: 6.3484 - mae: 6.3484\n",
            "Epoch 20/100\n",
            "13/13 [==============================] - 0s 2ms/step - loss: 6.3472 - mae: 6.3472\n",
            "Epoch 21/100\n",
            "13/13 [==============================] - 0s 2ms/step - loss: 6.3442 - mae: 6.3442\n",
            "Epoch 22/100\n",
            "13/13 [==============================] - 0s 3ms/step - loss: 6.3472 - mae: 6.3472\n",
            "Epoch 23/100\n",
            "13/13 [==============================] - 0s 3ms/step - loss: 6.3442 - mae: 6.3442\n",
            "Epoch 24/100\n",
            "13/13 [==============================] - 0s 3ms/step - loss: 6.3514 - mae: 6.3514\n",
            "Epoch 25/100\n",
            "13/13 [==============================] - 0s 3ms/step - loss: 6.3420 - mae: 6.3420\n",
            "Epoch 26/100\n",
            "13/13 [==============================] - 0s 3ms/step - loss: 6.3468 - mae: 6.3468\n",
            "Epoch 27/100\n",
            "13/13 [==============================] - 0s 3ms/step - loss: 6.3438 - mae: 6.3438\n",
            "Epoch 28/100\n",
            "13/13 [==============================] - 0s 3ms/step - loss: 6.3427 - mae: 6.3427\n",
            "Epoch 29/100\n",
            "13/13 [==============================] - 0s 3ms/step - loss: 6.3436 - mae: 6.3436\n",
            "Epoch 30/100\n",
            "13/13 [==============================] - 0s 4ms/step - loss: 6.3441 - mae: 6.3441\n",
            "Epoch 31/100\n",
            "13/13 [==============================] - 0s 3ms/step - loss: 6.3452 - mae: 6.3452\n",
            "Epoch 32/100\n",
            "13/13 [==============================] - 0s 2ms/step - loss: 6.3461 - mae: 6.3461\n",
            "Epoch 33/100\n",
            "13/13 [==============================] - 0s 3ms/step - loss: 6.3585 - mae: 6.3585\n",
            "Epoch 34/100\n",
            "13/13 [==============================] - 0s 2ms/step - loss: 6.3523 - mae: 6.3523\n",
            "Epoch 35/100\n",
            "13/13 [==============================] - 0s 3ms/step - loss: 6.3501 - mae: 6.3501\n",
            "Epoch 36/100\n",
            "13/13 [==============================] - 0s 3ms/step - loss: 6.3660 - mae: 6.3660\n",
            "Epoch 37/100\n",
            "13/13 [==============================] - 0s 3ms/step - loss: 6.3437 - mae: 6.3437\n",
            "Epoch 38/100\n",
            "13/13 [==============================] - 0s 3ms/step - loss: 6.3417 - mae: 6.3417\n",
            "Epoch 39/100\n",
            "13/13 [==============================] - 0s 2ms/step - loss: 6.3647 - mae: 6.3647\n",
            "Epoch 40/100\n",
            "13/13 [==============================] - 0s 3ms/step - loss: 6.3448 - mae: 6.3448\n",
            "Epoch 41/100\n",
            "13/13 [==============================] - 0s 3ms/step - loss: 6.3461 - mae: 6.3461\n",
            "Epoch 42/100\n",
            "13/13 [==============================] - 0s 3ms/step - loss: 6.3471 - mae: 6.3471\n",
            "Epoch 43/100\n",
            "13/13 [==============================] - 0s 3ms/step - loss: 6.3580 - mae: 6.3580\n",
            "Epoch 44/100\n",
            "13/13 [==============================] - 0s 3ms/step - loss: 6.3490 - mae: 6.3490\n",
            "Epoch 45/100\n",
            "13/13 [==============================] - 0s 3ms/step - loss: 6.3460 - mae: 6.3460\n",
            "Epoch 46/100\n",
            "13/13 [==============================] - 0s 3ms/step - loss: 6.3493 - mae: 6.3493\n",
            "Epoch 47/100\n",
            "13/13 [==============================] - 0s 3ms/step - loss: 6.3458 - mae: 6.3458\n",
            "Epoch 48/100\n",
            "13/13 [==============================] - 0s 3ms/step - loss: 6.3448 - mae: 6.3448\n",
            "Epoch 49/100\n",
            "13/13 [==============================] - 0s 3ms/step - loss: 6.3470 - mae: 6.3470\n",
            "Epoch 50/100\n",
            "13/13 [==============================] - 0s 3ms/step - loss: 6.3448 - mae: 6.3448\n",
            "Epoch 51/100\n",
            "13/13 [==============================] - 0s 3ms/step - loss: 6.3500 - mae: 6.3500\n",
            "Epoch 52/100\n",
            "13/13 [==============================] - 0s 2ms/step - loss: 6.3437 - mae: 6.3437\n",
            "Epoch 53/100\n",
            "13/13 [==============================] - 0s 3ms/step - loss: 6.3440 - mae: 6.3440\n",
            "Epoch 54/100\n",
            "13/13 [==============================] - 0s 3ms/step - loss: 6.3468 - mae: 6.3468\n",
            "Epoch 55/100\n",
            "13/13 [==============================] - 0s 3ms/step - loss: 6.3426 - mae: 6.3426\n",
            "Epoch 56/100\n",
            "13/13 [==============================] - 0s 3ms/step - loss: 6.3504 - mae: 6.3504\n",
            "Epoch 57/100\n",
            "13/13 [==============================] - 0s 3ms/step - loss: 6.3526 - mae: 6.3526\n",
            "Epoch 58/100\n",
            "13/13 [==============================] - 0s 4ms/step - loss: 6.3492 - mae: 6.3492\n",
            "Epoch 59/100\n",
            "13/13 [==============================] - 0s 3ms/step - loss: 6.3555 - mae: 6.3555\n",
            "Epoch 60/100\n",
            "13/13 [==============================] - 0s 3ms/step - loss: 6.3446 - mae: 6.3446\n",
            "Epoch 61/100\n",
            "13/13 [==============================] - 0s 3ms/step - loss: 6.3480 - mae: 6.3480\n",
            "Epoch 62/100\n",
            "13/13 [==============================] - 0s 3ms/step - loss: 6.3446 - mae: 6.3446\n",
            "Epoch 63/100\n",
            "13/13 [==============================] - 0s 3ms/step - loss: 6.3455 - mae: 6.3455\n",
            "Epoch 64/100\n",
            "13/13 [==============================] - 0s 3ms/step - loss: 6.3476 - mae: 6.3476\n",
            "Epoch 65/100\n",
            "13/13 [==============================] - 0s 3ms/step - loss: 6.3544 - mae: 6.3544\n",
            "Epoch 66/100\n",
            "13/13 [==============================] - 0s 3ms/step - loss: 6.3478 - mae: 6.3478\n",
            "Epoch 67/100\n",
            "13/13 [==============================] - 0s 3ms/step - loss: 6.3837 - mae: 6.3837\n",
            "Epoch 68/100\n",
            "13/13 [==============================] - 0s 3ms/step - loss: 6.3448 - mae: 6.3448\n",
            "Epoch 69/100\n",
            "13/13 [==============================] - 0s 3ms/step - loss: 6.3472 - mae: 6.3472\n",
            "Epoch 70/100\n",
            "13/13 [==============================] - 0s 3ms/step - loss: 6.3452 - mae: 6.3452\n",
            "Epoch 71/100\n",
            "13/13 [==============================] - 0s 3ms/step - loss: 6.3497 - mae: 6.3497\n",
            "Epoch 72/100\n",
            "13/13 [==============================] - 0s 3ms/step - loss: 6.3545 - mae: 6.3545\n",
            "Epoch 73/100\n",
            "13/13 [==============================] - 0s 3ms/step - loss: 6.3535 - mae: 6.3535\n",
            "Epoch 74/100\n",
            "13/13 [==============================] - 0s 3ms/step - loss: 6.3457 - mae: 6.3457\n",
            "Epoch 75/100\n",
            "13/13 [==============================] - 0s 2ms/step - loss: 6.3478 - mae: 6.3478\n",
            "Epoch 76/100\n",
            "13/13 [==============================] - 0s 3ms/step - loss: 6.3500 - mae: 6.3500\n",
            "Epoch 77/100\n",
            "13/13 [==============================] - 0s 4ms/step - loss: 6.3446 - mae: 6.3446\n",
            "Epoch 78/100\n",
            "13/13 [==============================] - 0s 3ms/step - loss: 6.3461 - mae: 6.3461\n",
            "Epoch 79/100\n",
            "13/13 [==============================] - 0s 3ms/step - loss: 6.3458 - mae: 6.3458\n",
            "Epoch 80/100\n",
            "13/13 [==============================] - 0s 3ms/step - loss: 6.3459 - mae: 6.3459\n",
            "Epoch 81/100\n",
            "13/13 [==============================] - 0s 3ms/step - loss: 6.3470 - mae: 6.3470\n",
            "Epoch 82/100\n",
            "13/13 [==============================] - 0s 3ms/step - loss: 6.3466 - mae: 6.3466\n",
            "Epoch 83/100\n",
            "13/13 [==============================] - 0s 3ms/step - loss: 6.3452 - mae: 6.3452\n",
            "Epoch 84/100\n",
            "13/13 [==============================] - 0s 3ms/step - loss: 6.3456 - mae: 6.3456\n",
            "Epoch 85/100\n",
            "13/13 [==============================] - 0s 2ms/step - loss: 6.3452 - mae: 6.3452\n",
            "Epoch 86/100\n",
            "13/13 [==============================] - 0s 3ms/step - loss: 6.3558 - mae: 6.3558\n",
            "Epoch 87/100\n",
            "13/13 [==============================] - 0s 3ms/step - loss: 6.3466 - mae: 6.3466\n",
            "Epoch 88/100\n",
            "13/13 [==============================] - 0s 3ms/step - loss: 6.3505 - mae: 6.3505\n",
            "Epoch 89/100\n",
            "13/13 [==============================] - 0s 3ms/step - loss: 6.3449 - mae: 6.3449\n",
            "Epoch 90/100\n",
            "13/13 [==============================] - 0s 3ms/step - loss: 6.3468 - mae: 6.3468\n",
            "Epoch 91/100\n",
            "13/13 [==============================] - 0s 3ms/step - loss: 6.3527 - mae: 6.3527\n",
            "Epoch 92/100\n",
            "13/13 [==============================] - 0s 3ms/step - loss: 6.3452 - mae: 6.3452\n",
            "Epoch 93/100\n",
            "13/13 [==============================] - 0s 3ms/step - loss: 6.3453 - mae: 6.3453\n",
            "Epoch 94/100\n",
            "13/13 [==============================] - 0s 3ms/step - loss: 6.3585 - mae: 6.3585\n",
            "Epoch 95/100\n",
            "13/13 [==============================] - 0s 3ms/step - loss: 6.3707 - mae: 6.3707\n",
            "Epoch 96/100\n",
            "13/13 [==============================] - 0s 3ms/step - loss: 6.3432 - mae: 6.3432\n",
            "Epoch 97/100\n",
            "13/13 [==============================] - 0s 3ms/step - loss: 6.3447 - mae: 6.3447\n",
            "Epoch 98/100\n",
            "13/13 [==============================] - 0s 3ms/step - loss: 6.3516 - mae: 6.3516\n",
            "Epoch 99/100\n",
            "13/13 [==============================] - 0s 3ms/step - loss: 6.3515 - mae: 6.3515\n",
            "Epoch 100/100\n",
            "13/13 [==============================] - 0s 3ms/step - loss: 6.3523 - mae: 6.3523\n"
          ]
        }
      ]
    },
    {
      "cell_type": "code",
      "source": [
        "##plot loss curve\n",
        "\n",
        "pd.DataFrame(history_1.history).plot()\n",
        "plt.ylabel(\"loss\")\n",
        "plt.xlabel(\"epochs\")"
      ],
      "metadata": {
        "colab": {
          "base_uri": "https://localhost:8080/",
          "height": 296
        },
        "id": "VYJm0lOXhfTO",
        "outputId": "623d28ce-87e5-4a13-cc50-54c162ce4768"
      },
      "execution_count": 60,
      "outputs": [
        {
          "output_type": "execute_result",
          "data": {
            "text/plain": [
              "Text(0.5, 0, 'epochs')"
            ]
          },
          "metadata": {},
          "execution_count": 60
        },
        {
          "output_type": "display_data",
          "data": {
            "image/png": "[encoded data removed]",
            "text/plain": [
              "<Figure size 432x288 with 1 Axes>"
            ]
          },
          "metadata": {
            "needs_background": "light"
          }
        }
      ]
    },
    {
      "cell_type": "code",
      "source": [
        "#evaluating our model\n",
        "\n",
        "model_1.evaluate(x_test,y_test)"
      ],
      "metadata": {
        "colab": {
          "base_uri": "https://localhost:8080/"
        },
        "id": "MNpR3AlTiP-_",
        "outputId": "15232910-bcb8-4dd8-9d00-c9e712707fbf"
      },
      "execution_count": 61,
      "outputs": [
        {
          "output_type": "stream",
          "name": "stdout",
          "text": [
            "4/4 [==============================] - 0s 3ms/step - loss: 7.2776 - mae: 7.2776\n"
          ]
        },
        {
          "output_type": "execute_result",
          "data": {
            "text/plain": [
              "[7.277642250061035, 7.277642726898193]"
            ]
          },
          "metadata": {},
          "execution_count": 61
        }
      ]
    },
    {
      "cell_type": "code",
      "source": [
        "model.evaluate(x_test, y_test)"
      ],
      "metadata": {
        "colab": {
          "base_uri": "https://localhost:8080/"
        },
        "id": "5W5X3DyajIN1",
        "outputId": "b402ccf7-bbb4-4dd2-a880-f2dc82e0fd69"
      },
      "execution_count": 62,
      "outputs": [
        {
          "output_type": "stream",
          "name": "stdout",
          "text": [
            "4/4 [==============================] - 0s 3ms/step - loss: 7.2794 - mae: 7.2794\n"
          ]
        },
        {
          "output_type": "execute_result",
          "data": {
            "text/plain": [
              "[7.279425144195557, 7.27942419052124]"
            ]
          },
          "metadata": {},
          "execution_count": 62
        }
      ]
    },
    {
      "cell_type": "code",
      "source": [
        ""
      ],
      "metadata": {
        "id": "7ceabljNjMSI"
      },
      "execution_count": null,
      "outputs": []
    }
  ]
}