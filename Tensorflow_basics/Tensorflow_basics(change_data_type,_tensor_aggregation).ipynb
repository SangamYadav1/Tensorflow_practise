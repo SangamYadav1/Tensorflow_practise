{
  "nbformat": 4,
  "nbformat_minor": 0,
  "metadata": {
    "colab": {
      "name": "Tensorflow_basics(change data type, tensor aggregation).ipynb",
      "provenance": []
    },
    "kernelspec": {
      "name": "python3",
      "display_name": "Python 3"
    },
    "language_info": {
      "name": "python"
    }
  },
  "cells": [
    {
      "cell_type": "markdown",
      "source": [
        "Changing the data types of tensors.\n",
        "\n",
        "Finding the min, max, mean, variance and standard devation.\n",
        "\n",
        "Finding the positional minimum and positional maximum."
      ],
      "metadata": {
        "id": "XbuJjYku8soe"
      }
    },
    {
      "cell_type": "code",
      "source": [
        "import tensorflow as tf"
      ],
      "metadata": {
        "id": "H0lfps2m9pkf"
      },
      "execution_count": 2,
      "outputs": []
    },
    {
      "cell_type": "code",
      "source": [
        "#changing the data type of tensors.\n",
        "\n",
        "#create  new tensor.\n",
        "\n",
        "B = tf.constant([1.7, 7.4])\n",
        "C = tf.constant([7, 10])\n",
        "\n",
        "print(B.dtype)\n",
        "print(C.dtype)"
      ],
      "metadata": {
        "colab": {
          "base_uri": "https://localhost:8080/"
        },
        "id": "eg1GtUzT9IX5",
        "outputId": "bc3f3c5e-6095-45c3-aedf-0892630db5c1"
      },
      "execution_count": 3,
      "outputs": [
        {
          "output_type": "stream",
          "name": "stdout",
          "text": [
            "<dtype: 'float32'>\n",
            "<dtype: 'int32'>\n"
          ]
        }
      ]
    },
    {
      "cell_type": "code",
      "source": [
        "#change the data type from float32 to float16. (Mixed precision)\n",
        "\n",
        "D = tf.cast(B, dtype = tf.float16)\n",
        "D.dtype"
      ],
      "metadata": {
        "colab": {
          "base_uri": "https://localhost:8080/"
        },
        "id": "fV0A82KR9ipU",
        "outputId": "360d4615-eff1-4324-b1ea-7f000570b057"
      },
      "execution_count": 4,
      "outputs": [
        {
          "output_type": "execute_result",
          "data": {
            "text/plain": [
              "tf.float16"
            ]
          },
          "metadata": {},
          "execution_count": 4
        }
      ]
    },
    {
      "cell_type": "code",
      "source": [
        "E = tf.cast(C, dtype = tf.float16)\n",
        "E.dtype"
      ],
      "metadata": {
        "colab": {
          "base_uri": "https://localhost:8080/"
        },
        "id": "Fal60jlg-Tcm",
        "outputId": "53822baa-4400-4d11-c92f-76c1754c7380"
      },
      "execution_count": 5,
      "outputs": [
        {
          "output_type": "execute_result",
          "data": {
            "text/plain": [
              "tf.float16"
            ]
          },
          "metadata": {},
          "execution_count": 5
        }
      ]
    },
    {
      "cell_type": "markdown",
      "source": [
        "Mixed precision is the use of both 16-bit and 32-bit floating-point types in a model during training to make it run faster and use less memory."
      ],
      "metadata": {
        "id": "nRlIntEv-oQ8"
      }
    },
    {
      "cell_type": "code",
      "source": [
        "#Tensor aggregation : condesing tesor from multiple values \n",
        "#down to a smaller amount of values. (min, max, mean, sum, variance, std)\n",
        "\n",
        "data = tf.constant([-1, -2])\n",
        "print(data)\n",
        "print(tf.abs(data))"
      ],
      "metadata": {
        "colab": {
          "base_uri": "https://localhost:8080/"
        },
        "id": "jN5AlcEn-i4q",
        "outputId": "2cacff0c-d406-4420-eba0-55704bc55632"
      },
      "execution_count": 6,
      "outputs": [
        {
          "output_type": "stream",
          "name": "stdout",
          "text": [
            "tf.Tensor([-1 -2], shape=(2,), dtype=int32)\n",
            "tf.Tensor([1 2], shape=(2,), dtype=int32)\n"
          ]
        }
      ]
    },
    {
      "cell_type": "code",
      "source": [
        "#create a random tensor with values b/w 0 and 100 of size 50.\n",
        "import numpy as np\n",
        "random_tensor = tf.constant(np.random.randint(0,10, size = 50))\n",
        "print(random_tensor)"
      ],
      "metadata": {
        "colab": {
          "base_uri": "https://localhost:8080/"
        },
        "id": "R0FH_ZFU_y1g",
        "outputId": "7e836a22-81fa-475d-814e-1fb4c9a63817"
      },
      "execution_count": 10,
      "outputs": [
        {
          "output_type": "stream",
          "name": "stdout",
          "text": [
            "tf.Tensor(\n",
            "[8 4 3 6 5 8 4 8 6 5 7 5 8 1 9 9 3 4 4 4 3 0 6 9 7 2 6 2 9 4 6 5 2 8 0 3 4\n",
            " 4 0 9 3 8 8 0 4 3 4 6 3 7], shape=(50,), dtype=int64)\n"
          ]
        }
      ]
    },
    {
      "cell_type": "code",
      "source": [
        "print(tf.size(random_tensor))\n",
        "print(random_tensor.shape)\n",
        "print(random_tensor.ndim)"
      ],
      "metadata": {
        "colab": {
          "base_uri": "https://localhost:8080/"
        },
        "id": "RyuhQpZDAngH",
        "outputId": "57188d05-1f13-4009-d2ef-03320cd714f6"
      },
      "execution_count": 11,
      "outputs": [
        {
          "output_type": "stream",
          "name": "stdout",
          "text": [
            "tf.Tensor(50, shape=(), dtype=int32)\n",
            "(50,)\n",
            "1\n"
          ]
        }
      ]
    },
    {
      "cell_type": "code",
      "source": [
        "#find the minimum, maximum, mean and sum of random_tensor\n",
        "\n",
        "print('minimum:', tf.reduce_min(random_tensor))\n",
        "print('maximum:', tf.reduce_max(random_tensor))\n",
        "print('mean:', tf.reduce_mean(random_tensor))\n",
        "print('sum:',tf.reduce_sum(random_tensor))"
      ],
      "metadata": {
        "colab": {
          "base_uri": "https://localhost:8080/"
        },
        "id": "3dvMRS9YBAhj",
        "outputId": "aaa2a402-78ce-4fc4-9393-257cf1776f49"
      },
      "execution_count": 13,
      "outputs": [
        {
          "output_type": "stream",
          "name": "stdout",
          "text": [
            "minimum: tf.Tensor(0, shape=(), dtype=int64)\n",
            "maximum: tf.Tensor(9, shape=(), dtype=int64)\n",
            "mean: tf.Tensor(4, shape=(), dtype=int64)\n",
            "sum: tf.Tensor(246, shape=(), dtype=int64)\n"
          ]
        }
      ]
    },
    {
      "cell_type": "code",
      "source": [
        "#find the variance\n",
        "\n",
        "tf.math.reduce_variance(tf.cast(random_tensor, dtype = tf.float32))"
      ],
      "metadata": {
        "colab": {
          "base_uri": "https://localhost:8080/"
        },
        "id": "Vp1t03eWESPW",
        "outputId": "e77889f4-3e12-45d1-831f-fd924a9c7297"
      },
      "execution_count": 15,
      "outputs": [
        {
          "output_type": "execute_result",
          "data": {
            "text/plain": [
              "<tf.Tensor: shape=(), dtype=float32, numpy=6.833599>"
            ]
          },
          "metadata": {},
          "execution_count": 15
        }
      ]
    },
    {
      "cell_type": "code",
      "source": [
        "#find the standard deviation\n",
        "\n",
        "tf.math.reduce_std(tf.cast(random_tensor, dtype = tf.float32))"
      ],
      "metadata": {
        "colab": {
          "base_uri": "https://localhost:8080/"
        },
        "id": "XfHNs8SyEx-S",
        "outputId": "81f5001d-038b-47c6-b9b3-7096e84c1647"
      },
      "execution_count": 16,
      "outputs": [
        {
          "output_type": "execute_result",
          "data": {
            "text/plain": [
              "<tf.Tensor: shape=(), dtype=float32, numpy=2.6141152>"
            ]
          },
          "metadata": {},
          "execution_count": 16
        }
      ]
    },
    {
      "cell_type": "code",
      "source": [
        "#create a new tensor for finding positional minimum and maximum.\n",
        "tf.random.set_seed(42)\n",
        "new_tensor = tf.random.uniform(shape = [50])\n",
        "print(new_tensor)"
      ],
      "metadata": {
        "colab": {
          "base_uri": "https://localhost:8080/"
        },
        "id": "XgoWVZpUFENh",
        "outputId": "37c1dc7f-060f-4e84-8c10-efc3b2e1d1bb"
      },
      "execution_count": 22,
      "outputs": [
        {
          "output_type": "stream",
          "name": "stdout",
          "text": [
            "tf.Tensor(\n",
            "[0.6645621  0.44100678 0.3528825  0.46448255 0.03366041 0.68467236\n",
            " 0.74011743 0.8724445  0.22632635 0.22319686 0.3103881  0.7223358\n",
            " 0.13318717 0.5480639  0.5746088  0.8996835  0.00946367 0.5212307\n",
            " 0.6345445  0.1993283  0.72942245 0.54583454 0.10756552 0.6767061\n",
            " 0.6602763  0.33695042 0.60141766 0.21062577 0.8527372  0.44062173\n",
            " 0.9485276  0.23752594 0.81179297 0.5263394  0.494308   0.21612847\n",
            " 0.8457197  0.8718841  0.3083862  0.6868038  0.23764038 0.7817228\n",
            " 0.9671384  0.06870162 0.79873943 0.66028714 0.5871513  0.16461694\n",
            " 0.7381023  0.32054043], shape=(50,), dtype=float32)\n"
          ]
        }
      ]
    },
    {
      "cell_type": "code",
      "source": [
        "#find the positional argument\n",
        "\n",
        "tf.argmax(new_tensor)"
      ],
      "metadata": {
        "colab": {
          "base_uri": "https://localhost:8080/"
        },
        "id": "dWA9y8nPF6Lw",
        "outputId": "974b062d-3c34-4433-97df-1746cff526ff"
      },
      "execution_count": 24,
      "outputs": [
        {
          "output_type": "execute_result",
          "data": {
            "text/plain": [
              "<tf.Tensor: shape=(), dtype=int64, numpy=42>"
            ]
          },
          "metadata": {},
          "execution_count": 24
        }
      ]
    },
    {
      "cell_type": "code",
      "source": [
        "#Index on our largest value position.\n",
        "\n",
        "new_tensor[tf.argmax(new_tensor)]"
      ],
      "metadata": {
        "colab": {
          "base_uri": "https://localhost:8080/"
        },
        "id": "0jUlpEClF_fO",
        "outputId": "ae65b85b-9104-4fd2-8388-6bd5e737197f"
      },
      "execution_count": 25,
      "outputs": [
        {
          "output_type": "execute_result",
          "data": {
            "text/plain": [
              "<tf.Tensor: shape=(), dtype=float32, numpy=0.9671384>"
            ]
          },
          "metadata": {},
          "execution_count": 25
        }
      ]
    },
    {
      "cell_type": "code",
      "source": [
        "#find the maximum value of new_tensor.\n",
        "\n",
        "tf.reduce_max(new_tensor)"
      ],
      "metadata": {
        "colab": {
          "base_uri": "https://localhost:8080/"
        },
        "id": "2TaylBSVGPqg",
        "outputId": "51a32d1d-5267-4119-d757-db5c112034d1"
      },
      "execution_count": 26,
      "outputs": [
        {
          "output_type": "execute_result",
          "data": {
            "text/plain": [
              "<tf.Tensor: shape=(), dtype=float32, numpy=0.9671384>"
            ]
          },
          "metadata": {},
          "execution_count": 26
        }
      ]
    },
    {
      "cell_type": "code",
      "source": [
        "#check for equality\n",
        "\n",
        "new_tensor[tf.argmax(new_tensor)] == tf.reduce_max(new_tensor)"
      ],
      "metadata": {
        "colab": {
          "base_uri": "https://localhost:8080/"
        },
        "id": "esPyFXDYGbcv",
        "outputId": "ea3e9fd1-bd85-4375-e591-3a13e5212cb5"
      },
      "execution_count": 27,
      "outputs": [
        {
          "output_type": "execute_result",
          "data": {
            "text/plain": [
              "<tf.Tensor: shape=(), dtype=bool, numpy=True>"
            ]
          },
          "metadata": {},
          "execution_count": 27
        }
      ]
    },
    {
      "cell_type": "code",
      "source": [
        "#find the positional minimum\n",
        "\n",
        "tf.argmin(new_tensor)"
      ],
      "metadata": {
        "colab": {
          "base_uri": "https://localhost:8080/"
        },
        "id": "lFtKkbD9Gk4R",
        "outputId": "e45d9416-72d5-4459-fdab-9c817b622e0e"
      },
      "execution_count": 28,
      "outputs": [
        {
          "output_type": "execute_result",
          "data": {
            "text/plain": [
              "<tf.Tensor: shape=(), dtype=int64, numpy=16>"
            ]
          },
          "metadata": {},
          "execution_count": 28
        }
      ]
    },
    {
      "cell_type": "code",
      "source": [
        "#Find the minimum using positional minimum index\n",
        "\n",
        "new_tensor[tf.argmin(new_tensor)]"
      ],
      "metadata": {
        "colab": {
          "base_uri": "https://localhost:8080/"
        },
        "id": "CEziEzjRGtHT",
        "outputId": "26d41f3f-fa7d-49eb-fc3c-9e848570ff72"
      },
      "execution_count": 29,
      "outputs": [
        {
          "output_type": "execute_result",
          "data": {
            "text/plain": [
              "<tf.Tensor: shape=(), dtype=float32, numpy=0.009463668>"
            ]
          },
          "metadata": {},
          "execution_count": 29
        }
      ]
    },
    {
      "cell_type": "code",
      "source": [
        ""
      ],
      "metadata": {
        "id": "1bQFtacxG4jK"
      },
      "execution_count": null,
      "outputs": []
    }
  ]
}