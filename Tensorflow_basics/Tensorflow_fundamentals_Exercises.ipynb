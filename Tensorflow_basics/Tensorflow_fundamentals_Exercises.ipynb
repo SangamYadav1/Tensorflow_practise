{
  "nbformat": 4,
  "nbformat_minor": 0,
  "metadata": {
    "colab": {
      "name": "Tensorflow fundamentals Exercises.ipynb",
      "provenance": []
    },
    "kernelspec": {
      "name": "python3",
      "display_name": "Python 3"
    },
    "language_info": {
      "name": "python"
    }
  },
  "cells": [
    {
      "cell_type": "code",
      "execution_count": 1,
      "metadata": {
        "id": "tSZSOcza4lNP"
      },
      "outputs": [],
      "source": [
        "import tensorflow as tf"
      ]
    },
    {
      "cell_type": "code",
      "source": [
        "#create vector, scalar, matrix and tensor with values of your choosing using tf.constant()\n",
        "\n",
        "vector = tf.constant(1)\n",
        "scalar = tf.constant([1,2,3])\n",
        "matrix = tf.constant([[1,2],\n",
        "                      [3,4]])"
      ],
      "metadata": {
        "id": "70fhT6p64zVD"
      },
      "execution_count": 2,
      "outputs": []
    },
    {
      "cell_type": "code",
      "source": [
        "print(vector)\n",
        "print(scalar)\n",
        "print(matrix)"
      ],
      "metadata": {
        "colab": {
          "base_uri": "https://localhost:8080/"
        },
        "id": "8-xTXAp-5Q4R",
        "outputId": "b55e9dcc-a296-45ea-e475-01e3b175a6c7"
      },
      "execution_count": 3,
      "outputs": [
        {
          "output_type": "stream",
          "name": "stdout",
          "text": [
            "tf.Tensor(1, shape=(), dtype=int32)\n",
            "tf.Tensor([1 2 3], shape=(3,), dtype=int32)\n",
            "tf.Tensor(\n",
            "[[1 2]\n",
            " [3 4]], shape=(2, 2), dtype=int32)\n"
          ]
        }
      ]
    },
    {
      "cell_type": "code",
      "source": [
        "#Find the shape, rank and size of the tensors you created in 1.\n",
        "\n",
        "print(vector.shape, vector.ndim, tf.size(vector))\n",
        "print(scalar.shape, scalar.ndim, tf.size(scalar))\n",
        "print(matrix.shape, matrix.ndim, tf.size(matrix))"
      ],
      "metadata": {
        "colab": {
          "base_uri": "https://localhost:8080/"
        },
        "id": "uiXgjeAS5Vh-",
        "outputId": "de46cccb-559c-41e8-a287-71267575b0d0"
      },
      "execution_count": 5,
      "outputs": [
        {
          "output_type": "stream",
          "name": "stdout",
          "text": [
            "() 0 tf.Tensor(1, shape=(), dtype=int32)\n",
            "(3,) 1 tf.Tensor(3, shape=(), dtype=int32)\n",
            "(2, 2) 2 tf.Tensor(4, shape=(), dtype=int32)\n"
          ]
        }
      ]
    },
    {
      "cell_type": "code",
      "source": [
        "#Create two tensors containing random values between 0 and 1 with shape [5,300].\n",
        "\n",
        "tf.random.set_seed(42)\n",
        "random1 = tf.random.uniform(shape = [5,300], minval = 0, maxval=1)\n",
        "print(random1, '\\n')\n",
        "random2 = tf.random.uniform(shape = [5,300], minval = 0, maxval = 1)\n",
        "print(random2)"
      ],
      "metadata": {
        "colab": {
          "base_uri": "https://localhost:8080/"
        },
        "id": "Oix0r2yA5pZu",
        "outputId": "475ba8d5-2d3e-48eb-e65e-7719c9d405ab"
      },
      "execution_count": 18,
      "outputs": [
        {
          "output_type": "stream",
          "name": "stdout",
          "text": [
            "tf.Tensor(\n",
            "[[0.6645621  0.44100678 0.3528825  ... 0.31410468 0.7593535  0.03699052]\n",
            " [0.532024   0.29129946 0.10571766 ... 0.54052293 0.31425726 0.2200619 ]\n",
            " [0.08404207 0.03614604 0.97732127 ... 0.21516645 0.9786098  0.00726748]\n",
            " [0.7396945  0.6653172  0.0787828  ... 0.7117733  0.07013571 0.9409125 ]\n",
            " [0.15861344 0.12024033 0.27218235 ... 0.8824879  0.1432488  0.44135118]], shape=(5, 300), dtype=float32) \n",
            "\n",
            "tf.Tensor(\n",
            "[[0.68789124 0.48447883 0.9309944  ... 0.6920762  0.33180213 0.9212563 ]\n",
            " [0.27369928 0.10631859 0.6218617  ... 0.4382149  0.30427706 0.51477313]\n",
            " [0.00920248 0.37280262 0.8177401  ... 0.56786287 0.49201214 0.9892651 ]\n",
            " [0.88608265 0.08672249 0.12160683 ... 0.91770685 0.72545695 0.8280058 ]\n",
            " [0.36690474 0.9200133  0.9646884  ... 0.69012    0.7137332  0.2584542 ]], shape=(5, 300), dtype=float32)\n"
          ]
        }
      ]
    },
    {
      "cell_type": "code",
      "source": [
        "#Multiply the two tensors you created in 3 using matrix multiplication.\n",
        "\n",
        "mat_mul = tf.matmul(random1, tf.transpose(random2))\n",
        "print(mat_mul)"
      ],
      "metadata": {
        "colab": {
          "base_uri": "https://localhost:8080/"
        },
        "id": "2LfSMQbv7wdu",
        "outputId": "5a113788-aa0e-40e4-d287-c844dd00c282"
      },
      "execution_count": 19,
      "outputs": [
        {
          "output_type": "stream",
          "name": "stdout",
          "text": [
            "tf.Tensor(\n",
            "[[80.33344  73.40498  77.15962  73.98368  80.90053 ]\n",
            " [75.146355 68.80437  74.24302  71.841835 75.60206 ]\n",
            " [79.7594   75.644554 77.797585 74.74873  80.559845]\n",
            " [75.085266 69.06406  74.307755 72.27616  76.05668 ]\n",
            " [85.056885 74.266266 78.00687  74.88678  83.13418 ]], shape=(5, 5), dtype=float32)\n"
          ]
        }
      ]
    },
    {
      "cell_type": "code",
      "source": [
        "#Multiply the two tensors you created in 3 using dot product.\n",
        "\n",
        "dot_pro = tf.tensordot(random1, tf.reshape(random2, shape = (300,5)), axes = 1)\n",
        "print(dot_pro)"
      ],
      "metadata": {
        "colab": {
          "base_uri": "https://localhost:8080/"
        },
        "id": "vNMKOfLM8Ajy",
        "outputId": "405859a5-4b8b-4498-c75d-ca2ca4805748"
      },
      "execution_count": 23,
      "outputs": [
        {
          "output_type": "stream",
          "name": "stdout",
          "text": [
            "tf.Tensor(\n",
            "[[76.27581  79.17824  77.82306  79.38919  79.37956 ]\n",
            " [72.70634  73.675156 73.71575  74.184204 73.72947 ]\n",
            " [75.74081  76.490845 74.435486 78.802124 77.70212 ]\n",
            " [68.98616  75.53636  74.5801   76.19232  75.25122 ]\n",
            " [75.56366  81.79859  78.68144  80.15668  80.48313 ]], shape=(5, 5), dtype=float32)\n"
          ]
        }
      ]
    },
    {
      "cell_type": "code",
      "source": [
        "#Create a tensor with random values between 0 and 1 with shape [224, 224, 3]\n",
        "\n",
        "tf.random.set_seed(42)\n",
        "random_tensor = tf.random.uniform(shape = [224, 224, 3], minval = 0, maxval = 1)"
      ],
      "metadata": {
        "id": "UK6sER809PUU"
      },
      "execution_count": 30,
      "outputs": []
    },
    {
      "cell_type": "code",
      "source": [
        "#Find the min and max values of the tensor you created in 6 along the first axis.\n",
        "\n",
        "tf.reduce_max(random_tensor)"
      ],
      "metadata": {
        "colab": {
          "base_uri": "https://localhost:8080/"
        },
        "id": "7icgM6pG-ZcI",
        "outputId": "d889ac02-c1dd-4ebe-efcc-9ee882eec3de"
      },
      "execution_count": 32,
      "outputs": [
        {
          "output_type": "execute_result",
          "data": {
            "text/plain": [
              "<tf.Tensor: shape=(), dtype=float32, numpy=0.999998>"
            ]
          },
          "metadata": {},
          "execution_count": 32
        }
      ]
    },
    {
      "cell_type": "code",
      "source": [
        "tf.reduce_min(random_tensor)"
      ],
      "metadata": {
        "colab": {
          "base_uri": "https://localhost:8080/"
        },
        "id": "I6x121pE-2RB",
        "outputId": "0688de6f-b961-44e5-e0c7-34e8f36eea0a"
      },
      "execution_count": 33,
      "outputs": [
        {
          "output_type": "execute_result",
          "data": {
            "text/plain": [
              "<tf.Tensor: shape=(), dtype=float32, numpy=3.5762787e-07>"
            ]
          },
          "metadata": {},
          "execution_count": 33
        }
      ]
    },
    {
      "cell_type": "code",
      "source": [
        "#Created a tensor with random values of shape [1, 224, 224, 3] then squeeze it to change the shape to [224, 224, 3].\n",
        "\n",
        "tensor = tf.constant(tf.random.uniform(shape = [150528]), shape = (1, 224, 224, 3))"
      ],
      "metadata": {
        "id": "5wLexUve-_sk"
      },
      "execution_count": 38,
      "outputs": []
    },
    {
      "cell_type": "code",
      "source": [
        "tf.squeeze(tensor)"
      ],
      "metadata": {
        "colab": {
          "base_uri": "https://localhost:8080/"
        },
        "id": "vN0dm4NOAYHA",
        "outputId": "651c7c86-0d82-427e-fdc5-ffa0db86631b"
      },
      "execution_count": 39,
      "outputs": [
        {
          "output_type": "execute_result",
          "data": {
            "text/plain": [
              "<tf.Tensor: shape=(224, 224, 3), dtype=float32, numpy=\n",
              "array([[[0.95831835, 0.01680839, 0.3156035 ],\n",
              "        [0.16013157, 0.7148702 , 0.7892921 ],\n",
              "        [0.11484027, 0.33310425, 0.21091413],\n",
              "        ...,\n",
              "        [0.6279857 , 0.85051286, 0.9490392 ],\n",
              "        [0.62438786, 0.2802421 , 0.18754554],\n",
              "        [0.9087832 , 0.46846092, 0.5317346 ]],\n",
              "\n",
              "       [[0.85744655, 0.51288927, 0.18603599],\n",
              "        [0.04882693, 0.78045344, 0.79377043],\n",
              "        [0.9356363 , 0.32798207, 0.15949786],\n",
              "        ...,\n",
              "        [0.6933085 , 0.5420611 , 0.1860913 ],\n",
              "        [0.7326596 , 0.9234495 , 0.07200372],\n",
              "        [0.5471792 , 0.24985266, 0.14673471]],\n",
              "\n",
              "       [[0.5033684 , 0.7000841 , 0.21468806],\n",
              "        [0.9304948 , 0.17212296, 0.720364  ],\n",
              "        [0.6657183 , 0.17304075, 0.7110392 ],\n",
              "        ...,\n",
              "        [0.35423398, 0.126225  , 0.24436975],\n",
              "        [0.096439  , 0.06387579, 0.32836854],\n",
              "        [0.15067935, 0.6084572 , 0.47766674]],\n",
              "\n",
              "       ...,\n",
              "\n",
              "       [[0.23573959, 0.42224514, 0.9151635 ],\n",
              "        [0.38158715, 0.32973826, 0.5171102 ],\n",
              "        [0.06080973, 0.31411576, 0.22626662],\n",
              "        ...,\n",
              "        [0.5705669 , 0.4921385 , 0.09957004],\n",
              "        [0.7411188 , 0.02490544, 0.6451397 ],\n",
              "        [0.87311184, 0.7771938 , 0.7208451 ]],\n",
              "\n",
              "       [[0.9943476 , 0.7494216 , 0.04249358],\n",
              "        [0.0224061 , 0.5791631 , 0.7543137 ],\n",
              "        [0.84515274, 0.6103951 , 0.5505407 ],\n",
              "        ...,\n",
              "        [0.1359564 , 0.47180867, 0.4215784 ],\n",
              "        [0.1299932 , 0.5381433 , 0.71466696],\n",
              "        [0.15192771, 0.8817011 , 0.2109077 ]],\n",
              "\n",
              "       [[0.603493  , 0.16534615, 0.6985712 ],\n",
              "        [0.15773225, 0.8743893 , 0.58997643],\n",
              "        [0.80147445, 0.37448967, 0.8073541 ],\n",
              "        ...,\n",
              "        [0.65353775, 0.7825564 , 0.45476055],\n",
              "        [0.45565426, 0.39367366, 0.925439  ],\n",
              "        [0.05451977, 0.5806842 , 0.01799083]]], dtype=float32)>"
            ]
          },
          "metadata": {},
          "execution_count": 39
        }
      ]
    },
    {
      "cell_type": "code",
      "source": [
        "#Create a tensor with shape [10] using your own choice of values, then find the index which has the maximum value.\n",
        "list1 = [1,2,3,4,5,6,7,8,9]\n",
        "list1_tesnor = tf.constant(list1)\n",
        "list1_tesnor.dtype\n",
        "\n",
        "tf.random.set_seed(42)\n",
        "tensor = tf.random.uniform(shape = [10])\n",
        "tensor"
      ],
      "metadata": {
        "colab": {
          "base_uri": "https://localhost:8080/"
        },
        "id": "8SiwvoxZBVem",
        "outputId": "f3b95abf-8e92-4d4b-afe7-1cab53aab5d5"
      },
      "execution_count": 62,
      "outputs": [
        {
          "output_type": "execute_result",
          "data": {
            "text/plain": [
              "<tf.Tensor: shape=(10,), dtype=float32, numpy=\n",
              "array([0.6645621 , 0.44100678, 0.3528825 , 0.46448255, 0.03366041,\n",
              "       0.68467236, 0.74011743, 0.8724445 , 0.22632635, 0.22319686],\n",
              "      dtype=float32)>"
            ]
          },
          "metadata": {},
          "execution_count": 62
        }
      ]
    },
    {
      "cell_type": "code",
      "source": [
        "tf.argmax(list1_tesnor)"
      ],
      "metadata": {
        "colab": {
          "base_uri": "https://localhost:8080/"
        },
        "id": "3qjDp3nWCRaU",
        "outputId": "bac919a0-32f5-44e3-a2ad-d986cb5db6b7"
      },
      "execution_count": 64,
      "outputs": [
        {
          "output_type": "execute_result",
          "data": {
            "text/plain": [
              "<tf.Tensor: shape=(), dtype=int64, numpy=8>"
            ]
          },
          "metadata": {},
          "execution_count": 64
        }
      ]
    },
    {
      "cell_type": "code",
      "source": [
        "list1_tesnor[tf.argmax(list1_tesnor)]"
      ],
      "metadata": {
        "colab": {
          "base_uri": "https://localhost:8080/"
        },
        "id": "sAO7p_oMDrjc",
        "outputId": "7cf967c4-6411-4c8d-c7ee-94f84254f643"
      },
      "execution_count": 65,
      "outputs": [
        {
          "output_type": "execute_result",
          "data": {
            "text/plain": [
              "<tf.Tensor: shape=(), dtype=int32, numpy=9>"
            ]
          },
          "metadata": {},
          "execution_count": 65
        }
      ]
    },
    {
      "cell_type": "code",
      "source": [
        "#One-hot encode the tensor you created in 9.\n",
        "\n",
        "tf.one_hot(tf.cast(tensor, dtype = 'int32'), depth = 10)"
      ],
      "metadata": {
        "colab": {
          "base_uri": "https://localhost:8080/"
        },
        "id": "ofX9znafE6TW",
        "outputId": "7a86fd10-1f3a-4733-a07d-59c804750139"
      },
      "execution_count": 66,
      "outputs": [
        {
          "output_type": "execute_result",
          "data": {
            "text/plain": [
              "<tf.Tensor: shape=(10, 10), dtype=float32, numpy=\n",
              "array([[1., 0., 0., 0., 0., 0., 0., 0., 0., 0.],\n",
              "       [1., 0., 0., 0., 0., 0., 0., 0., 0., 0.],\n",
              "       [1., 0., 0., 0., 0., 0., 0., 0., 0., 0.],\n",
              "       [1., 0., 0., 0., 0., 0., 0., 0., 0., 0.],\n",
              "       [1., 0., 0., 0., 0., 0., 0., 0., 0., 0.],\n",
              "       [1., 0., 0., 0., 0., 0., 0., 0., 0., 0.],\n",
              "       [1., 0., 0., 0., 0., 0., 0., 0., 0., 0.],\n",
              "       [1., 0., 0., 0., 0., 0., 0., 0., 0., 0.],\n",
              "       [1., 0., 0., 0., 0., 0., 0., 0., 0., 0.],\n",
              "       [1., 0., 0., 0., 0., 0., 0., 0., 0., 0.]], dtype=float32)>"
            ]
          },
          "metadata": {},
          "execution_count": 66
        }
      ]
    },
    {
      "cell_type": "code",
      "source": [
        "tf.one_hot(list1_tesnor, depth = 10)"
      ],
      "metadata": {
        "colab": {
          "base_uri": "https://localhost:8080/"
        },
        "id": "UH_ISOtBFJuP",
        "outputId": "d8bb9957-9e9d-4141-aef3-3cebb196790c"
      },
      "execution_count": 67,
      "outputs": [
        {
          "output_type": "execute_result",
          "data": {
            "text/plain": [
              "<tf.Tensor: shape=(9, 10), dtype=float32, numpy=\n",
              "array([[0., 1., 0., 0., 0., 0., 0., 0., 0., 0.],\n",
              "       [0., 0., 1., 0., 0., 0., 0., 0., 0., 0.],\n",
              "       [0., 0., 0., 1., 0., 0., 0., 0., 0., 0.],\n",
              "       [0., 0., 0., 0., 1., 0., 0., 0., 0., 0.],\n",
              "       [0., 0., 0., 0., 0., 1., 0., 0., 0., 0.],\n",
              "       [0., 0., 0., 0., 0., 0., 1., 0., 0., 0.],\n",
              "       [0., 0., 0., 0., 0., 0., 0., 1., 0., 0.],\n",
              "       [0., 0., 0., 0., 0., 0., 0., 0., 1., 0.],\n",
              "       [0., 0., 0., 0., 0., 0., 0., 0., 0., 1.]], dtype=float32)>"
            ]
          },
          "metadata": {},
          "execution_count": 67
        }
      ]
    }
  ]
}